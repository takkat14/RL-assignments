{
 "cells": [
  {
   "cell_type": "markdown",
   "metadata": {},
   "source": [
    "### Gymnasium links\n",
    "\n",
    "Announce: https://farama.org/Announcing-The-Farama-Foundation\n",
    "\n",
    "Github: https://github.com/Farama-Foundation/Gymnasium\n",
    "\n",
    "Documentation: https://gymnasium.farama.org/"
   ]
  },
  {
   "cell_type": "markdown",
   "metadata": {},
   "source": [
    "# Deep Crossentropy method\n",
    "\n",
    "In this section we'll extend your CEM implementation with neural networks! You will train a multi-layer neural network to solve simple continuous state space games. __Please make sure you're done with tabular crossentropy method from the previous notebook.__\n"
   ]
  },
  {
   "cell_type": "code",
   "execution_count": 1,
   "metadata": {
    "ExecuteTime": {
     "end_time": "2022-11-07T21:14:34.072537Z",
     "start_time": "2022-11-07T21:14:31.668680Z"
    }
   },
   "outputs": [
    {
     "name": "stdout",
     "output_type": "stream",
     "text": [
      "Requirement already satisfied: gymnasium in /Users/takkat14/opt/anaconda3/envs/jupy/lib/python3.9/site-packages (0.26.3)\n",
      "Requirement already satisfied: cloudpickle>=1.2.0 in /Users/takkat14/opt/anaconda3/envs/jupy/lib/python3.9/site-packages (from gymnasium) (2.2.0)\n",
      "Requirement already satisfied: numpy>=1.18.0 in /Users/takkat14/opt/anaconda3/envs/jupy/lib/python3.9/site-packages (from gymnasium) (1.22.1)\n",
      "Requirement already satisfied: gymnasium-notices>=0.0.1 in /Users/takkat14/opt/anaconda3/envs/jupy/lib/python3.9/site-packages (from gymnasium) (0.0.1)\n",
      "Requirement already satisfied: importlib-metadata>=4.8.0 in /Users/takkat14/opt/anaconda3/envs/jupy/lib/python3.9/site-packages (from gymnasium) (4.11.2)\n",
      "Requirement already satisfied: zipp>=0.5 in /Users/takkat14/opt/anaconda3/envs/jupy/lib/python3.9/site-packages (from importlib-metadata>=4.8.0->gymnasium) (3.7.0)\n",
      "Requirement already satisfied: gymnasium[toy_text] in /Users/takkat14/opt/anaconda3/envs/jupy/lib/python3.9/site-packages (0.26.3)\n",
      "Requirement already satisfied: gymnasium-notices>=0.0.1 in /Users/takkat14/opt/anaconda3/envs/jupy/lib/python3.9/site-packages (from gymnasium[toy_text]) (0.0.1)\n",
      "Requirement already satisfied: cloudpickle>=1.2.0 in /Users/takkat14/opt/anaconda3/envs/jupy/lib/python3.9/site-packages (from gymnasium[toy_text]) (2.2.0)\n",
      "Requirement already satisfied: numpy>=1.18.0 in /Users/takkat14/opt/anaconda3/envs/jupy/lib/python3.9/site-packages (from gymnasium[toy_text]) (1.22.1)\n",
      "Requirement already satisfied: importlib-metadata>=4.8.0 in /Users/takkat14/opt/anaconda3/envs/jupy/lib/python3.9/site-packages (from gymnasium[toy_text]) (4.11.2)\n",
      "Requirement already satisfied: pygame==2.1.0 in /Users/takkat14/opt/anaconda3/envs/jupy/lib/python3.9/site-packages (from gymnasium[toy_text]) (2.1.0)\n",
      "Requirement already satisfied: zipp>=0.5 in /Users/takkat14/opt/anaconda3/envs/jupy/lib/python3.9/site-packages (from importlib-metadata>=4.8.0->gymnasium[toy_text]) (3.7.0)\n"
     ]
    }
   ],
   "source": [
    "# Install gymnasium if you don't have\n",
    "!pip install gymnasium\n",
    "!pip install 'gymnasium[toy_text]'"
   ]
  },
  {
   "cell_type": "code",
   "execution_count": 2,
   "metadata": {
    "ExecuteTime": {
     "end_time": "2022-11-07T22:04:54.505240Z",
     "start_time": "2022-11-07T22:04:53.282858Z"
    }
   },
   "outputs": [
    {
     "name": "stdout",
     "output_type": "stream",
     "text": [
      "state vector dim = 4\n",
      "n_actions = 2\n"
     ]
    },
    {
     "data": {
      "image/png": "[encoded data removed]",
      "text/plain": [
       "<Figure size 432x288 with 1 Axes>"
      ]
     },
     "metadata": {
      "needs_background": "light"
     },
     "output_type": "display_data"
    }
   ],
   "source": [
    "import gymnasium as gym\n",
    "import numpy as np\n",
    "import matplotlib.pyplot as plt\n",
    "%matplotlib inline\n",
    "\n",
    "# if you see \"<classname> has no attribute .env\", remove .env or update gym\n",
    "env = gym.make(\"CartPole-v1\", render_mode=\"rgb_array\").env\n",
    "\n",
    "env.reset()\n",
    "n_actions = env.action_space.n\n",
    "state_dim = env.observation_space.shape[0]\n",
    "\n",
    "plt.imshow(env.render())\n",
    "print(\"state vector dim =\", state_dim)\n",
    "print(\"n_actions =\", n_actions)\n",
    "\n",
    "env.close()"
   ]
  },
  {
   "cell_type": "code",
   "execution_count": 3,
   "metadata": {
    "ExecuteTime": {
     "end_time": "2022-11-07T22:04:54.522253Z",
     "start_time": "2022-11-07T22:04:54.519800Z"
    }
   },
   "outputs": [
    {
     "data": {
      "text/plain": [
       "(Box([-4.8000002e+00 -3.4028235e+38 -4.1887903e-01 -3.4028235e+38], [4.8000002e+00 3.4028235e+38 4.1887903e-01 3.4028235e+38], (4,), float32),\n",
       " Discrete(2))"
      ]
     },
     "execution_count": 3,
     "metadata": {},
     "output_type": "execute_result"
    }
   ],
   "source": [
    "env.observation_space, env.action_space"
   ]
  },
  {
   "cell_type": "markdown",
   "metadata": {},
   "source": [
    "# Neural Network Policy\n",
    "\n",
    "For this assignment we'll utilize the simplified neural network implementation from __[Scikit-learn](https://scikit-learn.org/stable/modules/generated/sklearn.neural_network.MLPClassifier.html)__. Here's what you'll need:\n",
    "\n",
    "* `agent.partial_fit(states, actions)` - make a single training pass over the data. Maximize the probabilitity of :actions: from :states:\n",
    "* `agent.predict_proba(states)` - predict probabilities of all actions, a matrix of shape __[len(states), n_actions]__\n",
    "\n",
    "You may also use your favorite neural framework, if it doesn't make it too difficult. The idea is the main thing."
   ]
  },
  {
   "cell_type": "code",
   "execution_count": 4,
   "metadata": {
    "ExecuteTime": {
     "end_time": "2022-11-07T22:04:55.005141Z",
     "start_time": "2022-11-07T22:04:54.523412Z"
    }
   },
   "outputs": [
    {
     "data": {
      "text/plain": [
       "MLPClassifier(activation='tanh', hidden_layer_sizes=(20, 20))"
      ]
     },
     "execution_count": 4,
     "metadata": {},
     "output_type": "execute_result"
    }
   ],
   "source": [
    "from sklearn.neural_network import MLPClassifier\n",
    "\n",
    "agent = MLPClassifier(\n",
    "    hidden_layer_sizes=(20, 20),\n",
    "    activation='tanh',\n",
    ")\n",
    "\n",
    "# initialize agent to the dimension of state space and number of actions\n",
    "agent.partial_fit([env.reset()[0]] * n_actions, range(n_actions), range(n_actions))"
   ]
  },
  {
   "cell_type": "code",
   "execution_count": 5,
   "metadata": {
    "ExecuteTime": {
     "end_time": "2022-11-07T22:04:55.042901Z",
     "start_time": "2022-11-07T22:04:55.006712Z"
    }
   },
   "outputs": [],
   "source": [
    "from tqdm.notebook import tqdm\n",
    "\n",
    "def generate_session(agent, t_max=1000, test=False):\n",
    "    \"\"\"\n",
    "    Play a single game using agent neural network.\n",
    "    Terminate when game finishes or after :t_max: steps\n",
    "    \"\"\"\n",
    "    states, actions = [], []\n",
    "    total_reward = 0\n",
    "\n",
    "    s, _ = env.reset()\n",
    "\n",
    "\n",
    "    for t in range(t_max):\n",
    "        \n",
    "        # use agent to predict a vector of action probabilities for state :s:\n",
    "        #  s == (1, 4) 1d\n",
    "        # (n_samples, n_features)\n",
    "        # (n_features, n_samples)\n",
    "        probs = agent.predict_proba(s[None, :])[0]\n",
    "\n",
    "        assert probs.shape == (n_actions,), \"make sure probabilities are a vector (hint: np.reshape)\"\n",
    "        \n",
    "        # use the probabilities you predicted to pick an action\n",
    "        if test:\n",
    "            # on the test use the best (the most likely) actions at test\n",
    "            # experiment, will it work on the train and vice versa?\n",
    "            a = np.argmax(probs)\n",
    "            # ^-- hint: try np.argmax\n",
    "        else:\n",
    "            # sample proportionally to the probabilities,\n",
    "            # don't just take the most likely action at train\n",
    "            a = np.random.choice(np.arange(n_actions), p=probs)\n",
    "            # ^-- hint: try np.random.choice\n",
    "        \n",
    "        new_s, r, done, info, _ = env.step(a)\n",
    "\n",
    "        # record sessions like you did before\n",
    "        states.append(s)\n",
    "        actions.append(a)\n",
    "        total_reward += r\n",
    "\n",
    "        s = new_s\n",
    "        if done:\n",
    "            break\n",
    "    return states, actions, total_reward"
   ]
  },
  {
   "cell_type": "code",
   "execution_count": 6,
   "metadata": {
    "ExecuteTime": {
     "end_time": "2022-11-07T22:04:55.047856Z",
     "start_time": "2022-11-07T22:04:55.044028Z"
    }
   },
   "outputs": [
    {
     "name": "stdout",
     "output_type": "stream",
     "text": [
      "states: [[-0.01620753 -0.02680861 -0.03705108 -0.03051647]\n",
      " [-0.0167437   0.16882455 -0.03766141 -0.3346553 ]\n",
      " [-0.01336721 -0.02574172 -0.04435452 -0.05408271]\n",
      " [-0.01388204  0.16998722 -0.04543617 -0.36042333]\n",
      " [-0.0104823  -0.02446041 -0.05264464 -0.08240654]]\n",
      "actions: [1, 0, 1, 0, 0]\n",
      "reward: 5.0\n"
     ]
    }
   ],
   "source": [
    "dummy_states, dummy_actions, dummy_reward = generate_session(agent, t_max=5)\n",
    "print(\"states:\", np.stack(dummy_states))\n",
    "print(\"actions:\", dummy_actions)\n",
    "print(\"reward:\", dummy_reward)"
   ]
  },
  {
   "cell_type": "markdown",
   "metadata": {},
   "source": [
    "### CEM steps\n",
    "Deep CEM uses exactly the same strategy as the regular CEM, so you can copy your function code from previous notebook.\n",
    "\n",
    "The only difference is that now each observation is not a number but a `float32` vector.\n",
    "\n",
    "Let's see that it differs from tabular `select_elites`. Our neural network now is trained with one object and it takes an input of `(1, n_states)`. So, we should use `np.squeeze` to remove leading dimension in the deep `select_elites`."
   ]
  },
  {
   "cell_type": "code",
   "execution_count": 7,
   "metadata": {
    "ExecuteTime": {
     "end_time": "2022-11-07T22:04:55.052165Z",
     "start_time": "2022-11-07T22:04:55.048867Z"
    }
   },
   "outputs": [],
   "source": [
    "def select_elites(states_batch, actions_batch, rewards_batch, percentile=50):\n",
    "    \"\"\"\n",
    "    Select states and actions from games that have rewards >= percentile\n",
    "    :param states_batch: list of lists of states, states_batch[session_i][t]\n",
    "    :param actions_batch: list of lists of actions, actions_batch[session_i][t]\n",
    "    :param rewards_batch: list of rewards, rewards_batch[session_i]\n",
    "\n",
    "    :returns: elite_states,elite_actions, both 1D lists of states and respective actions from elite sessions\n",
    "\n",
    "    Please return elite states and actions in their original order \n",
    "    [i.e. sorted by session number and timestep within session]\n",
    "\n",
    "    If you are confused, see examples below. Please don't assume that states are integers\n",
    "    (they will become different later).\n",
    "    \"\"\"\n",
    "\n",
    "        \n",
    "    # Let's see that it differs from tabular `select_elites`.\n",
    "    # Our neural network now is trained with one object and it takes an input of `(1, n_states)`.\n",
    "    # So, we should use `np.squeeze` to remove leading dimension in the deep `select_elites`.\n",
    "    \n",
    "    states = np.array(states_batch, dtype='object')\n",
    "    actions = np.array(actions_batch, dtype='object')\n",
    "    rewards = np.array(rewards_batch, dtype='object')\n",
    "\n",
    "    reward_threshold = np.percentile(rewards, percentile)\n",
    "    \n",
    "    elite_states = []\n",
    "    elite_actions = []\n",
    "    for i in np.where(rewards >= reward_threshold)[0]:\n",
    "        elite_states += states[i]\n",
    "        elite_actions += actions[i]\n",
    "        \n",
    "    return elite_states, elite_actions"
   ]
  },
  {
   "cell_type": "markdown",
   "metadata": {},
   "source": [
    "# Training loop\n",
    "Generate sessions, select N best and fit to those."
   ]
  },
  {
   "cell_type": "code",
   "execution_count": 8,
   "metadata": {
    "ExecuteTime": {
     "end_time": "2022-11-07T22:04:55.207458Z",
     "start_time": "2022-11-07T22:04:55.197904Z"
    }
   },
   "outputs": [],
   "source": [
    "from IPython.display import clear_output\n",
    "\n",
    "def show_progress(rewards_batch, log, percentile, reward_range=[-990, +10]):\n",
    "    \"\"\"\n",
    "    A convenience function that displays training progress. \n",
    "    No cool math here, just charts.\n",
    "    \"\"\"\n",
    "\n",
    "    mean_reward = np.mean(rewards_batch)\n",
    "    threshold = np.percentile(rewards_batch, percentile)\n",
    "    log.append([mean_reward, threshold])\n",
    "\n",
    "    print(\"mean reward = %.3f, threshold=%.3f\" % (mean_reward, threshold))\n",
    "    plt.figure(figsize=[8, 4])\n",
    "    plt.subplot(1, 2, 1)\n",
    "    plt.plot(list(zip(*log))[0], label='Mean rewards')\n",
    "    plt.plot(list(zip(*log))[1], label='Reward thresholds')\n",
    "    plt.legend()\n",
    "    plt.grid()\n",
    "\n",
    "    plt.subplot(1, 2, 2)\n",
    "    plt.hist(rewards_batch, range=reward_range)\n",
    "    plt.vlines([np.percentile(rewards_batch, percentile)],\n",
    "               [0], [100], label=\"percentile\", color='red')\n",
    "    plt.legend()\n",
    "    plt.grid()\n",
    "\n",
    "    clear_output(True)\n",
    "    plt.show()"
   ]
  },
  {
   "cell_type": "code",
   "execution_count": 9,
   "metadata": {
    "ExecuteTime": {
     "end_time": "2022-11-07T22:05:17.643775Z",
     "start_time": "2022-11-07T22:04:55.486765Z"
    },
    "scrolled": true
   },
   "outputs": [
    {
     "data": {
      "image/png": "[encoded data removed]",
      "text/plain": [
       "<Figure size 576x288 with 2 Axes>"
      ]
     },
     "metadata": {
      "needs_background": "light"
     },
     "output_type": "display_data"
    },
    {
     "name": "stdout",
     "output_type": "stream",
     "text": [
      "You Win! You may stop training now via KeyboardInterrupt.\n"
     ]
    }
   ],
   "source": [
    "n_sessions = 100\n",
    "percentile = 70\n",
    "log = []\n",
    "\n",
    "for i in range(100):\n",
    "    # generate new sessions\n",
    "    sessions = [generate_session(agent) for _ in range(n_sessions)]\n",
    "\n",
    "    states_batch, actions_batch, rewards_batch = map(np.array, zip(*sessions))\n",
    "\n",
    "    elite_states, elite_actions = select_elites(states_batch, actions_batch, rewards_batch)\n",
    "\n",
    "    agent.partial_fit(elite_states, elite_actions)\n",
    "\n",
    "    show_progress(rewards_batch, log, percentile, reward_range=[0, np.max(rewards_batch)])\n",
    "\n",
    "    if np.mean(rewards_batch) > 190:\n",
    "        print(\"You Win! You may stop training now via KeyboardInterrupt.\")\n",
    "        break"
   ]
  },
  {
   "cell_type": "markdown",
   "metadata": {
    "heading_collapsed": true
   },
   "source": [
    "# Results"
   ]
  },
  {
   "cell_type": "code",
   "execution_count": 10,
   "metadata": {
    "ExecuteTime": {
     "end_time": "2022-11-07T21:15:02.785969Z",
     "start_time": "2022-11-07T21:15:00.074845Z"
    },
    "hidden": true
   },
   "outputs": [
    {
     "name": "stdout",
     "output_type": "stream",
     "text": [
      "Requirement already satisfied: imageio_ffmpeg in /Users/takkat14/opt/anaconda3/envs/jupy/lib/python3.9/site-packages (0.4.7)\n",
      "Requirement already satisfied: moviepy in /Users/takkat14/opt/anaconda3/envs/jupy/lib/python3.9/site-packages (1.0.3)\n",
      "Requirement already satisfied: proglog<=1.0.0 in /Users/takkat14/opt/anaconda3/envs/jupy/lib/python3.9/site-packages (from moviepy) (0.1.10)\n",
      "Requirement already satisfied: requests<3.0,>=2.8.1 in /Users/takkat14/opt/anaconda3/envs/jupy/lib/python3.9/site-packages (from moviepy) (2.27.1)\n",
      "Requirement already satisfied: imageio<3.0,>=2.5 in /Users/takkat14/opt/anaconda3/envs/jupy/lib/python3.9/site-packages (from moviepy) (2.22.4)\n",
      "Requirement already satisfied: numpy>=1.17.3 in /Users/takkat14/opt/anaconda3/envs/jupy/lib/python3.9/site-packages (from moviepy) (1.22.1)\n",
      "Requirement already satisfied: tqdm<5.0,>=4.11.2 in /Users/takkat14/opt/anaconda3/envs/jupy/lib/python3.9/site-packages (from moviepy) (4.62.3)\n",
      "Requirement already satisfied: decorator<5.0,>=4.0.2 in /Users/takkat14/opt/anaconda3/envs/jupy/lib/python3.9/site-packages (from moviepy) (4.4.2)\n",
      "Requirement already satisfied: imageio-ffmpeg>=0.2.0 in /Users/takkat14/opt/anaconda3/envs/jupy/lib/python3.9/site-packages (from moviepy) (0.4.7)\n",
      "Requirement already satisfied: pillow>=8.3.2 in /Users/takkat14/opt/anaconda3/envs/jupy/lib/python3.9/site-packages (from imageio<3.0,>=2.5->moviepy) (9.0.0)\n",
      "Requirement already satisfied: urllib3<1.27,>=1.21.1 in /Users/takkat14/opt/anaconda3/envs/jupy/lib/python3.9/site-packages (from requests<3.0,>=2.8.1->moviepy) (1.26.8)\n",
      "Requirement already satisfied: certifi>=2017.4.17 in /Users/takkat14/opt/anaconda3/envs/jupy/lib/python3.9/site-packages (from requests<3.0,>=2.8.1->moviepy) (2021.10.8)\n",
      "Requirement already satisfied: charset-normalizer~=2.0.0 in /Users/takkat14/opt/anaconda3/envs/jupy/lib/python3.9/site-packages (from requests<3.0,>=2.8.1->moviepy) (2.0.10)\n",
      "Requirement already satisfied: idna<4,>=2.5 in /Users/takkat14/opt/anaconda3/envs/jupy/lib/python3.9/site-packages (from requests<3.0,>=2.8.1->moviepy) (3.3)\n"
     ]
    }
   ],
   "source": [
    "!pip install imageio_ffmpeg\n",
    "!pip install moviepy --upgrade\n"
   ]
  },
  {
   "cell_type": "code",
   "execution_count": 11,
   "metadata": {
    "ExecuteTime": {
     "end_time": "2022-11-07T21:09:42.234631Z",
     "start_time": "2022-11-07T21:08:36.268336Z"
    },
    "hidden": true
   },
   "outputs": [
    {
     "name": "stderr",
     "output_type": "stream",
     "text": [
      "/Users/takkat14/opt/anaconda3/envs/jupy/lib/python3.9/site-packages/gymnasium/wrappers/record_video.py:75: UserWarning: \u001b[33mWARN: Overwriting existing videos at /Users/takkat14/Documents/Фтиад/RL-course/hw1/videos folder (try specifying a different `video_folder` for the `RecordVideo` wrapper if this is not desired)\u001b[0m\n",
      "  logger.warn(\n"
     ]
    },
    {
     "name": "stdout",
     "output_type": "stream",
     "text": [
      "Moviepy - Building video /Users/takkat14/Documents/Фтиад/RL-course/hw1/videos/rl-video-episode-0.mp4.\n",
      "Moviepy - Writing video /Users/takkat14/Documents/Фтиад/RL-course/hw1/videos/rl-video-episode-0.mp4\n",
      "\n"
     ]
    },
    {
     "name": "stderr",
     "output_type": "stream",
     "text": [
      "                                                                                                                                                          \r"
     ]
    },
    {
     "name": "stdout",
     "output_type": "stream",
     "text": [
      "Moviepy - Done !\n",
      "Moviepy - video ready /Users/takkat14/Documents/Фтиад/RL-course/hw1/videos/rl-video-episode-0.mp4\n",
      "Moviepy - Building video /Users/takkat14/Documents/Фтиад/RL-course/hw1/videos/rl-video-episode-1.mp4.\n",
      "Moviepy - Writing video /Users/takkat14/Documents/Фтиад/RL-course/hw1/videos/rl-video-episode-1.mp4\n",
      "\n"
     ]
    },
    {
     "name": "stderr",
     "output_type": "stream",
     "text": [
      "                                                                                                                                                          \r"
     ]
    },
    {
     "name": "stdout",
     "output_type": "stream",
     "text": [
      "Moviepy - Done !\n",
      "Moviepy - video ready /Users/takkat14/Documents/Фтиад/RL-course/hw1/videos/rl-video-episode-1.mp4\n",
      "Moviepy - Building video /Users/takkat14/Documents/Фтиад/RL-course/hw1/videos/rl-video-episode-2.mp4.\n",
      "Moviepy - Writing video /Users/takkat14/Documents/Фтиад/RL-course/hw1/videos/rl-video-episode-2.mp4\n",
      "\n"
     ]
    },
    {
     "name": "stderr",
     "output_type": "stream",
     "text": [
      "                                                                                                                                                          \r"
     ]
    },
    {
     "name": "stdout",
     "output_type": "stream",
     "text": [
      "Moviepy - Done !\n",
      "Moviepy - video ready /Users/takkat14/Documents/Фтиад/RL-course/hw1/videos/rl-video-episode-2.mp4\n",
      "Moviepy - Building video /Users/takkat14/Documents/Фтиад/RL-course/hw1/videos/rl-video-episode-3.mp4.\n",
      "Moviepy - Writing video /Users/takkat14/Documents/Фтиад/RL-course/hw1/videos/rl-video-episode-3.mp4\n",
      "\n"
     ]
    },
    {
     "name": "stderr",
     "output_type": "stream",
     "text": [
      "                                                                                                                                                          \r"
     ]
    },
    {
     "name": "stdout",
     "output_type": "stream",
     "text": [
      "Moviepy - Done !\n",
      "Moviepy - video ready /Users/takkat14/Documents/Фтиад/RL-course/hw1/videos/rl-video-episode-3.mp4\n",
      "Moviepy - Building video /Users/takkat14/Documents/Фтиад/RL-course/hw1/videos/rl-video-episode-4.mp4.\n",
      "Moviepy - Writing video /Users/takkat14/Documents/Фтиад/RL-course/hw1/videos/rl-video-episode-4.mp4\n",
      "\n"
     ]
    },
    {
     "name": "stderr",
     "output_type": "stream",
     "text": [
      "                                                                                                                                                          \r"
     ]
    },
    {
     "name": "stdout",
     "output_type": "stream",
     "text": [
      "Moviepy - Done !\n",
      "Moviepy - video ready /Users/takkat14/Documents/Фтиад/RL-course/hw1/videos/rl-video-episode-4.mp4\n",
      "Moviepy - Building video /Users/takkat14/Documents/Фтиад/RL-course/hw1/videos/rl-video-episode-5.mp4.\n",
      "Moviepy - Writing video /Users/takkat14/Documents/Фтиад/RL-course/hw1/videos/rl-video-episode-5.mp4\n",
      "\n"
     ]
    },
    {
     "name": "stderr",
     "output_type": "stream",
     "text": [
      "                                                                                                                                                          \r"
     ]
    },
    {
     "name": "stdout",
     "output_type": "stream",
     "text": [
      "Moviepy - Done !\n",
      "Moviepy - video ready /Users/takkat14/Documents/Фтиад/RL-course/hw1/videos/rl-video-episode-5.mp4\n",
      "Moviepy - Building video /Users/takkat14/Documents/Фтиад/RL-course/hw1/videos/rl-video-episode-6.mp4.\n",
      "Moviepy - Writing video /Users/takkat14/Documents/Фтиад/RL-course/hw1/videos/rl-video-episode-6.mp4\n",
      "\n"
     ]
    },
    {
     "name": "stderr",
     "output_type": "stream",
     "text": [
      "                                                                                                                                                          \r"
     ]
    },
    {
     "name": "stdout",
     "output_type": "stream",
     "text": [
      "Moviepy - Done !\n",
      "Moviepy - video ready /Users/takkat14/Documents/Фтиад/RL-course/hw1/videos/rl-video-episode-6.mp4\n",
      "Moviepy - Building video /Users/takkat14/Documents/Фтиад/RL-course/hw1/videos/rl-video-episode-7.mp4.\n",
      "Moviepy - Writing video /Users/takkat14/Documents/Фтиад/RL-course/hw1/videos/rl-video-episode-7.mp4\n",
      "\n"
     ]
    },
    {
     "name": "stderr",
     "output_type": "stream",
     "text": [
      "                                                                                                                                                          \r"
     ]
    },
    {
     "name": "stdout",
     "output_type": "stream",
     "text": [
      "Moviepy - Done !\n",
      "Moviepy - video ready /Users/takkat14/Documents/Фтиад/RL-course/hw1/videos/rl-video-episode-7.mp4\n",
      "Moviepy - Building video /Users/takkat14/Documents/Фтиад/RL-course/hw1/videos/rl-video-episode-8.mp4.\n",
      "Moviepy - Writing video /Users/takkat14/Documents/Фтиад/RL-course/hw1/videos/rl-video-episode-8.mp4\n",
      "\n"
     ]
    },
    {
     "name": "stderr",
     "output_type": "stream",
     "text": [
      "                                                                                                                                                          \r"
     ]
    },
    {
     "name": "stdout",
     "output_type": "stream",
     "text": [
      "Moviepy - Done !\n",
      "Moviepy - video ready /Users/takkat14/Documents/Фтиад/RL-course/hw1/videos/rl-video-episode-8.mp4\n",
      "Moviepy - Building video /Users/takkat14/Documents/Фтиад/RL-course/hw1/videos/rl-video-episode-9.mp4.\n",
      "Moviepy - Writing video /Users/takkat14/Documents/Фтиад/RL-course/hw1/videos/rl-video-episode-9.mp4\n",
      "\n"
     ]
    },
    {
     "name": "stderr",
     "output_type": "stream",
     "text": [
      "                                                                                                                                                          \r"
     ]
    },
    {
     "name": "stdout",
     "output_type": "stream",
     "text": [
      "Moviepy - Done !\n",
      "Moviepy - video ready /Users/takkat14/Documents/Фтиад/RL-course/hw1/videos/rl-video-episode-9.mp4\n",
      "Moviepy - Building video /Users/takkat14/Documents/Фтиад/RL-course/hw1/videos/rl-video-episode-10.mp4.\n",
      "Moviepy - Writing video /Users/takkat14/Documents/Фтиад/RL-course/hw1/videos/rl-video-episode-10.mp4\n",
      "\n"
     ]
    },
    {
     "name": "stderr",
     "output_type": "stream",
     "text": [
      "                                                                                                                                                          \r"
     ]
    },
    {
     "name": "stdout",
     "output_type": "stream",
     "text": [
      "Moviepy - Done !\n",
      "Moviepy - video ready /Users/takkat14/Documents/Фтиад/RL-course/hw1/videos/rl-video-episode-10.mp4\n",
      "Moviepy - Building video /Users/takkat14/Documents/Фтиад/RL-course/hw1/videos/rl-video-episode-11.mp4.\n",
      "Moviepy - Writing video /Users/takkat14/Documents/Фтиад/RL-course/hw1/videos/rl-video-episode-11.mp4\n",
      "\n"
     ]
    },
    {
     "name": "stderr",
     "output_type": "stream",
     "text": [
      "                                                                                                                                                          \r"
     ]
    },
    {
     "name": "stdout",
     "output_type": "stream",
     "text": [
      "Moviepy - Done !\n",
      "Moviepy - video ready /Users/takkat14/Documents/Фтиад/RL-course/hw1/videos/rl-video-episode-11.mp4\n",
      "Moviepy - Building video /Users/takkat14/Documents/Фтиад/RL-course/hw1/videos/rl-video-episode-12.mp4.\n",
      "Moviepy - Writing video /Users/takkat14/Documents/Фтиад/RL-course/hw1/videos/rl-video-episode-12.mp4\n",
      "\n"
     ]
    },
    {
     "name": "stderr",
     "output_type": "stream",
     "text": [
      "                                                                                                                                                          \r"
     ]
    },
    {
     "name": "stdout",
     "output_type": "stream",
     "text": [
      "Moviepy - Done !\n",
      "Moviepy - video ready /Users/takkat14/Documents/Фтиад/RL-course/hw1/videos/rl-video-episode-12.mp4\n",
      "Moviepy - Building video /Users/takkat14/Documents/Фтиад/RL-course/hw1/videos/rl-video-episode-13.mp4.\n",
      "Moviepy - Writing video /Users/takkat14/Documents/Фтиад/RL-course/hw1/videos/rl-video-episode-13.mp4\n",
      "\n"
     ]
    },
    {
     "name": "stderr",
     "output_type": "stream",
     "text": [
      "                                                                                                                                                          \r"
     ]
    },
    {
     "name": "stdout",
     "output_type": "stream",
     "text": [
      "Moviepy - Done !\n",
      "Moviepy - video ready /Users/takkat14/Documents/Фтиад/RL-course/hw1/videos/rl-video-episode-13.mp4\n",
      "Moviepy - Building video /Users/takkat14/Documents/Фтиад/RL-course/hw1/videos/rl-video-episode-14.mp4.\n",
      "Moviepy - Writing video /Users/takkat14/Documents/Фтиад/RL-course/hw1/videos/rl-video-episode-14.mp4\n",
      "\n"
     ]
    },
    {
     "name": "stderr",
     "output_type": "stream",
     "text": [
      "                                                                                                                                                          \r"
     ]
    },
    {
     "name": "stdout",
     "output_type": "stream",
     "text": [
      "Moviepy - Done !\n",
      "Moviepy - video ready /Users/takkat14/Documents/Фтиад/RL-course/hw1/videos/rl-video-episode-14.mp4\n",
      "Moviepy - Building video /Users/takkat14/Documents/Фтиад/RL-course/hw1/videos/rl-video-episode-15.mp4.\n",
      "Moviepy - Writing video /Users/takkat14/Documents/Фтиад/RL-course/hw1/videos/rl-video-episode-15.mp4\n",
      "\n"
     ]
    },
    {
     "name": "stderr",
     "output_type": "stream",
     "text": [
      "                                                                                                                                                          \r"
     ]
    },
    {
     "name": "stdout",
     "output_type": "stream",
     "text": [
      "Moviepy - Done !\n",
      "Moviepy - video ready /Users/takkat14/Documents/Фтиад/RL-course/hw1/videos/rl-video-episode-15.mp4\n",
      "Moviepy - Building video /Users/takkat14/Documents/Фтиад/RL-course/hw1/videos/rl-video-episode-16.mp4.\n",
      "Moviepy - Writing video /Users/takkat14/Documents/Фтиад/RL-course/hw1/videos/rl-video-episode-16.mp4\n",
      "\n"
     ]
    },
    {
     "name": "stderr",
     "output_type": "stream",
     "text": [
      "                                                                                                                                                          \r"
     ]
    },
    {
     "name": "stdout",
     "output_type": "stream",
     "text": [
      "Moviepy - Done !\n",
      "Moviepy - video ready /Users/takkat14/Documents/Фтиад/RL-course/hw1/videos/rl-video-episode-16.mp4\n",
      "Moviepy - Building video /Users/takkat14/Documents/Фтиад/RL-course/hw1/videos/rl-video-episode-17.mp4.\n",
      "Moviepy - Writing video /Users/takkat14/Documents/Фтиад/RL-course/hw1/videos/rl-video-episode-17.mp4\n",
      "\n"
     ]
    },
    {
     "name": "stderr",
     "output_type": "stream",
     "text": [
      "                                                                                                                                                          \r"
     ]
    },
    {
     "name": "stdout",
     "output_type": "stream",
     "text": [
      "Moviepy - Done !\n",
      "Moviepy - video ready /Users/takkat14/Documents/Фтиад/RL-course/hw1/videos/rl-video-episode-17.mp4\n",
      "Moviepy - Building video /Users/takkat14/Documents/Фтиад/RL-course/hw1/videos/rl-video-episode-18.mp4.\n",
      "Moviepy - Writing video /Users/takkat14/Documents/Фтиад/RL-course/hw1/videos/rl-video-episode-18.mp4\n",
      "\n"
     ]
    },
    {
     "name": "stderr",
     "output_type": "stream",
     "text": [
      "                                                                                                                                                          \r"
     ]
    },
    {
     "name": "stdout",
     "output_type": "stream",
     "text": [
      "Moviepy - Done !\n",
      "Moviepy - video ready /Users/takkat14/Documents/Фтиад/RL-course/hw1/videos/rl-video-episode-18.mp4\n",
      "Moviepy - Building video /Users/takkat14/Documents/Фтиад/RL-course/hw1/videos/rl-video-episode-19.mp4.\n",
      "Moviepy - Writing video /Users/takkat14/Documents/Фтиад/RL-course/hw1/videos/rl-video-episode-19.mp4\n",
      "\n"
     ]
    },
    {
     "name": "stderr",
     "output_type": "stream",
     "text": [
      "                                                                                                                                                          \r"
     ]
    },
    {
     "name": "stdout",
     "output_type": "stream",
     "text": [
      "Moviepy - Done !\n",
      "Moviepy - video ready /Users/takkat14/Documents/Фтиад/RL-course/hw1/videos/rl-video-episode-19.mp4\n",
      "Moviepy - Building video /Users/takkat14/Documents/Фтиад/RL-course/hw1/videos/rl-video-episode-20.mp4.\n",
      "Moviepy - Writing video /Users/takkat14/Documents/Фтиад/RL-course/hw1/videos/rl-video-episode-20.mp4\n",
      "\n"
     ]
    },
    {
     "name": "stderr",
     "output_type": "stream",
     "text": [
      "                                                                                                                                                          \r"
     ]
    },
    {
     "name": "stdout",
     "output_type": "stream",
     "text": [
      "Moviepy - Done !\n",
      "Moviepy - video ready /Users/takkat14/Documents/Фтиад/RL-course/hw1/videos/rl-video-episode-20.mp4\n",
      "Moviepy - Building video /Users/takkat14/Documents/Фтиад/RL-course/hw1/videos/rl-video-episode-21.mp4.\n",
      "Moviepy - Writing video /Users/takkat14/Documents/Фтиад/RL-course/hw1/videos/rl-video-episode-21.mp4\n",
      "\n"
     ]
    },
    {
     "name": "stderr",
     "output_type": "stream",
     "text": [
      "                                                                                                                                                          \r"
     ]
    },
    {
     "name": "stdout",
     "output_type": "stream",
     "text": [
      "Moviepy - Done !\n",
      "Moviepy - video ready /Users/takkat14/Documents/Фтиад/RL-course/hw1/videos/rl-video-episode-21.mp4\n",
      "Moviepy - Building video /Users/takkat14/Documents/Фтиад/RL-course/hw1/videos/rl-video-episode-22.mp4.\n",
      "Moviepy - Writing video /Users/takkat14/Documents/Фтиад/RL-course/hw1/videos/rl-video-episode-22.mp4\n",
      "\n"
     ]
    },
    {
     "name": "stderr",
     "output_type": "stream",
     "text": [
      "                                                                                                                                                          \r"
     ]
    },
    {
     "name": "stdout",
     "output_type": "stream",
     "text": [
      "Moviepy - Done !\n",
      "Moviepy - video ready /Users/takkat14/Documents/Фтиад/RL-course/hw1/videos/rl-video-episode-22.mp4\n",
      "Moviepy - Building video /Users/takkat14/Documents/Фтиад/RL-course/hw1/videos/rl-video-episode-23.mp4.\n",
      "Moviepy - Writing video /Users/takkat14/Documents/Фтиад/RL-course/hw1/videos/rl-video-episode-23.mp4\n",
      "\n"
     ]
    },
    {
     "name": "stderr",
     "output_type": "stream",
     "text": [
      "                                                                                                                                                          \r"
     ]
    },
    {
     "name": "stdout",
     "output_type": "stream",
     "text": [
      "Moviepy - Done !\n",
      "Moviepy - video ready /Users/takkat14/Documents/Фтиад/RL-course/hw1/videos/rl-video-episode-23.mp4\n",
      "Moviepy - Building video /Users/takkat14/Documents/Фтиад/RL-course/hw1/videos/rl-video-episode-24.mp4.\n",
      "Moviepy - Writing video /Users/takkat14/Documents/Фтиад/RL-course/hw1/videos/rl-video-episode-24.mp4\n",
      "\n"
     ]
    },
    {
     "name": "stderr",
     "output_type": "stream",
     "text": [
      "                                                                                                                                                          \r"
     ]
    },
    {
     "name": "stdout",
     "output_type": "stream",
     "text": [
      "Moviepy - Done !\n",
      "Moviepy - video ready /Users/takkat14/Documents/Фтиад/RL-course/hw1/videos/rl-video-episode-24.mp4\n",
      "Moviepy - Building video /Users/takkat14/Documents/Фтиад/RL-course/hw1/videos/rl-video-episode-25.mp4.\n",
      "Moviepy - Writing video /Users/takkat14/Documents/Фтиад/RL-course/hw1/videos/rl-video-episode-25.mp4\n",
      "\n"
     ]
    },
    {
     "name": "stderr",
     "output_type": "stream",
     "text": [
      "                                                                                                                                                          \r"
     ]
    },
    {
     "name": "stdout",
     "output_type": "stream",
     "text": [
      "Moviepy - Done !\n",
      "Moviepy - video ready /Users/takkat14/Documents/Фтиад/RL-course/hw1/videos/rl-video-episode-25.mp4\n",
      "Moviepy - Building video /Users/takkat14/Documents/Фтиад/RL-course/hw1/videos/rl-video-episode-26.mp4.\n",
      "Moviepy - Writing video /Users/takkat14/Documents/Фтиад/RL-course/hw1/videos/rl-video-episode-26.mp4\n",
      "\n"
     ]
    },
    {
     "name": "stderr",
     "output_type": "stream",
     "text": [
      "                                                                                                                                                          \r"
     ]
    },
    {
     "name": "stdout",
     "output_type": "stream",
     "text": [
      "Moviepy - Done !\n",
      "Moviepy - video ready /Users/takkat14/Documents/Фтиад/RL-course/hw1/videos/rl-video-episode-26.mp4\n",
      "Moviepy - Building video /Users/takkat14/Documents/Фтиад/RL-course/hw1/videos/rl-video-episode-27.mp4.\n",
      "Moviepy - Writing video /Users/takkat14/Documents/Фтиад/RL-course/hw1/videos/rl-video-episode-27.mp4\n",
      "\n"
     ]
    },
    {
     "name": "stderr",
     "output_type": "stream",
     "text": [
      "                                                                                                                                                          \r"
     ]
    },
    {
     "name": "stdout",
     "output_type": "stream",
     "text": [
      "Moviepy - Done !\n",
      "Moviepy - video ready /Users/takkat14/Documents/Фтиад/RL-course/hw1/videos/rl-video-episode-27.mp4\n",
      "Moviepy - Building video /Users/takkat14/Documents/Фтиад/RL-course/hw1/videos/rl-video-episode-28.mp4.\n",
      "Moviepy - Writing video /Users/takkat14/Documents/Фтиад/RL-course/hw1/videos/rl-video-episode-28.mp4\n",
      "\n"
     ]
    },
    {
     "name": "stderr",
     "output_type": "stream",
     "text": [
      "                                                                                                                                                          \r"
     ]
    },
    {
     "name": "stdout",
     "output_type": "stream",
     "text": [
      "Moviepy - Done !\n",
      "Moviepy - video ready /Users/takkat14/Documents/Фтиад/RL-course/hw1/videos/rl-video-episode-28.mp4\n",
      "Moviepy - Building video /Users/takkat14/Documents/Фтиад/RL-course/hw1/videos/rl-video-episode-29.mp4.\n",
      "Moviepy - Writing video /Users/takkat14/Documents/Фтиад/RL-course/hw1/videos/rl-video-episode-29.mp4\n",
      "\n"
     ]
    },
    {
     "name": "stderr",
     "output_type": "stream",
     "text": [
      "                                                                                                                                                          \r"
     ]
    },
    {
     "name": "stdout",
     "output_type": "stream",
     "text": [
      "Moviepy - Done !\n",
      "Moviepy - video ready /Users/takkat14/Documents/Фтиад/RL-course/hw1/videos/rl-video-episode-29.mp4\n",
      "Moviepy - Building video /Users/takkat14/Documents/Фтиад/RL-course/hw1/videos/rl-video-episode-30.mp4.\n",
      "Moviepy - Writing video /Users/takkat14/Documents/Фтиад/RL-course/hw1/videos/rl-video-episode-30.mp4\n",
      "\n"
     ]
    },
    {
     "name": "stderr",
     "output_type": "stream",
     "text": [
      "                                                                                                                                                          \r"
     ]
    },
    {
     "name": "stdout",
     "output_type": "stream",
     "text": [
      "Moviepy - Done !\n",
      "Moviepy - video ready /Users/takkat14/Documents/Фтиад/RL-course/hw1/videos/rl-video-episode-30.mp4\n",
      "Moviepy - Building video /Users/takkat14/Documents/Фтиад/RL-course/hw1/videos/rl-video-episode-31.mp4.\n",
      "Moviepy - Writing video /Users/takkat14/Documents/Фтиад/RL-course/hw1/videos/rl-video-episode-31.mp4\n",
      "\n"
     ]
    },
    {
     "name": "stderr",
     "output_type": "stream",
     "text": [
      "                                                                                                                                                          \r"
     ]
    },
    {
     "name": "stdout",
     "output_type": "stream",
     "text": [
      "Moviepy - Done !\n",
      "Moviepy - video ready /Users/takkat14/Documents/Фтиад/RL-course/hw1/videos/rl-video-episode-31.mp4\n",
      "Moviepy - Building video /Users/takkat14/Documents/Фтиад/RL-course/hw1/videos/rl-video-episode-32.mp4.\n",
      "Moviepy - Writing video /Users/takkat14/Documents/Фтиад/RL-course/hw1/videos/rl-video-episode-32.mp4\n",
      "\n"
     ]
    },
    {
     "name": "stderr",
     "output_type": "stream",
     "text": [
      "                                                                                                                                                          \r"
     ]
    },
    {
     "name": "stdout",
     "output_type": "stream",
     "text": [
      "Moviepy - Done !\n",
      "Moviepy - video ready /Users/takkat14/Documents/Фтиад/RL-course/hw1/videos/rl-video-episode-32.mp4\n",
      "Moviepy - Building video /Users/takkat14/Documents/Фтиад/RL-course/hw1/videos/rl-video-episode-33.mp4.\n",
      "Moviepy - Writing video /Users/takkat14/Documents/Фтиад/RL-course/hw1/videos/rl-video-episode-33.mp4\n",
      "\n"
     ]
    },
    {
     "name": "stderr",
     "output_type": "stream",
     "text": [
      "                                                                                                                                                          \r"
     ]
    },
    {
     "name": "stdout",
     "output_type": "stream",
     "text": [
      "Moviepy - Done !\n",
      "Moviepy - video ready /Users/takkat14/Documents/Фтиад/RL-course/hw1/videos/rl-video-episode-33.mp4\n",
      "Moviepy - Building video /Users/takkat14/Documents/Фтиад/RL-course/hw1/videos/rl-video-episode-34.mp4.\n",
      "Moviepy - Writing video /Users/takkat14/Documents/Фтиад/RL-course/hw1/videos/rl-video-episode-34.mp4\n",
      "\n"
     ]
    },
    {
     "name": "stderr",
     "output_type": "stream",
     "text": [
      "                                                                                                                                                          \r"
     ]
    },
    {
     "name": "stdout",
     "output_type": "stream",
     "text": [
      "Moviepy - Done !\n",
      "Moviepy - video ready /Users/takkat14/Documents/Фтиад/RL-course/hw1/videos/rl-video-episode-34.mp4\n",
      "Moviepy - Building video /Users/takkat14/Documents/Фтиад/RL-course/hw1/videos/rl-video-episode-35.mp4.\n",
      "Moviepy - Writing video /Users/takkat14/Documents/Фтиад/RL-course/hw1/videos/rl-video-episode-35.mp4\n",
      "\n"
     ]
    },
    {
     "name": "stderr",
     "output_type": "stream",
     "text": [
      "                                                                                                                                                          \r"
     ]
    },
    {
     "name": "stdout",
     "output_type": "stream",
     "text": [
      "Moviepy - Done !\n",
      "Moviepy - video ready /Users/takkat14/Documents/Фтиад/RL-course/hw1/videos/rl-video-episode-35.mp4\n",
      "Moviepy - Building video /Users/takkat14/Documents/Фтиад/RL-course/hw1/videos/rl-video-episode-36.mp4.\n",
      "Moviepy - Writing video /Users/takkat14/Documents/Фтиад/RL-course/hw1/videos/rl-video-episode-36.mp4\n",
      "\n"
     ]
    },
    {
     "name": "stderr",
     "output_type": "stream",
     "text": [
      "                                                                                                                                                          \r"
     ]
    },
    {
     "name": "stdout",
     "output_type": "stream",
     "text": [
      "Moviepy - Done !\n",
      "Moviepy - video ready /Users/takkat14/Documents/Фтиад/RL-course/hw1/videos/rl-video-episode-36.mp4\n",
      "Moviepy - Building video /Users/takkat14/Documents/Фтиад/RL-course/hw1/videos/rl-video-episode-37.mp4.\n",
      "Moviepy - Writing video /Users/takkat14/Documents/Фтиад/RL-course/hw1/videos/rl-video-episode-37.mp4\n",
      "\n"
     ]
    },
    {
     "name": "stderr",
     "output_type": "stream",
     "text": [
      "                                                                                                                                                          \r"
     ]
    },
    {
     "name": "stdout",
     "output_type": "stream",
     "text": [
      "Moviepy - Done !\n",
      "Moviepy - video ready /Users/takkat14/Documents/Фтиад/RL-course/hw1/videos/rl-video-episode-37.mp4\n",
      "Moviepy - Building video /Users/takkat14/Documents/Фтиад/RL-course/hw1/videos/rl-video-episode-38.mp4.\n",
      "Moviepy - Writing video /Users/takkat14/Documents/Фтиад/RL-course/hw1/videos/rl-video-episode-38.mp4\n",
      "\n"
     ]
    },
    {
     "name": "stderr",
     "output_type": "stream",
     "text": [
      "                                                                                                                                                          \r"
     ]
    },
    {
     "name": "stdout",
     "output_type": "stream",
     "text": [
      "Moviepy - Done !\n",
      "Moviepy - video ready /Users/takkat14/Documents/Фтиад/RL-course/hw1/videos/rl-video-episode-38.mp4\n",
      "Moviepy - Building video /Users/takkat14/Documents/Фтиад/RL-course/hw1/videos/rl-video-episode-39.mp4.\n",
      "Moviepy - Writing video /Users/takkat14/Documents/Фтиад/RL-course/hw1/videos/rl-video-episode-39.mp4\n",
      "\n"
     ]
    },
    {
     "name": "stderr",
     "output_type": "stream",
     "text": [
      "                                                                                                                                                          \r"
     ]
    },
    {
     "name": "stdout",
     "output_type": "stream",
     "text": [
      "Moviepy - Done !\n",
      "Moviepy - video ready /Users/takkat14/Documents/Фтиад/RL-course/hw1/videos/rl-video-episode-39.mp4\n",
      "Moviepy - Building video /Users/takkat14/Documents/Фтиад/RL-course/hw1/videos/rl-video-episode-40.mp4.\n",
      "Moviepy - Writing video /Users/takkat14/Documents/Фтиад/RL-course/hw1/videos/rl-video-episode-40.mp4\n",
      "\n"
     ]
    },
    {
     "name": "stderr",
     "output_type": "stream",
     "text": [
      "                                                                                                                                                          \r"
     ]
    },
    {
     "name": "stdout",
     "output_type": "stream",
     "text": [
      "Moviepy - Done !\n",
      "Moviepy - video ready /Users/takkat14/Documents/Фтиад/RL-course/hw1/videos/rl-video-episode-40.mp4\n",
      "Moviepy - Building video /Users/takkat14/Documents/Фтиад/RL-course/hw1/videos/rl-video-episode-41.mp4.\n",
      "Moviepy - Writing video /Users/takkat14/Documents/Фтиад/RL-course/hw1/videos/rl-video-episode-41.mp4\n",
      "\n"
     ]
    },
    {
     "name": "stderr",
     "output_type": "stream",
     "text": [
      "                                                                                                                                                          \r"
     ]
    },
    {
     "name": "stdout",
     "output_type": "stream",
     "text": [
      "Moviepy - Done !\n",
      "Moviepy - video ready /Users/takkat14/Documents/Фтиад/RL-course/hw1/videos/rl-video-episode-41.mp4\n",
      "Moviepy - Building video /Users/takkat14/Documents/Фтиад/RL-course/hw1/videos/rl-video-episode-42.mp4.\n",
      "Moviepy - Writing video /Users/takkat14/Documents/Фтиад/RL-course/hw1/videos/rl-video-episode-42.mp4\n",
      "\n"
     ]
    },
    {
     "name": "stderr",
     "output_type": "stream",
     "text": [
      "                                                                                                                                                          \r"
     ]
    },
    {
     "name": "stdout",
     "output_type": "stream",
     "text": [
      "Moviepy - Done !\n",
      "Moviepy - video ready /Users/takkat14/Documents/Фтиад/RL-course/hw1/videos/rl-video-episode-42.mp4\n",
      "Moviepy - Building video /Users/takkat14/Documents/Фтиад/RL-course/hw1/videos/rl-video-episode-43.mp4.\n",
      "Moviepy - Writing video /Users/takkat14/Documents/Фтиад/RL-course/hw1/videos/rl-video-episode-43.mp4\n",
      "\n"
     ]
    },
    {
     "name": "stderr",
     "output_type": "stream",
     "text": [
      "                                                                                                                                                          \r"
     ]
    },
    {
     "name": "stdout",
     "output_type": "stream",
     "text": [
      "Moviepy - Done !\n",
      "Moviepy - video ready /Users/takkat14/Documents/Фтиад/RL-course/hw1/videos/rl-video-episode-43.mp4\n",
      "Moviepy - Building video /Users/takkat14/Documents/Фтиад/RL-course/hw1/videos/rl-video-episode-44.mp4.\n",
      "Moviepy - Writing video /Users/takkat14/Documents/Фтиад/RL-course/hw1/videos/rl-video-episode-44.mp4\n",
      "\n"
     ]
    },
    {
     "name": "stderr",
     "output_type": "stream",
     "text": [
      "                                                                                                                                                          \r"
     ]
    },
    {
     "name": "stdout",
     "output_type": "stream",
     "text": [
      "Moviepy - Done !\n",
      "Moviepy - video ready /Users/takkat14/Documents/Фтиад/RL-course/hw1/videos/rl-video-episode-44.mp4\n",
      "Moviepy - Building video /Users/takkat14/Documents/Фтиад/RL-course/hw1/videos/rl-video-episode-45.mp4.\n",
      "Moviepy - Writing video /Users/takkat14/Documents/Фтиад/RL-course/hw1/videos/rl-video-episode-45.mp4\n",
      "\n"
     ]
    },
    {
     "name": "stderr",
     "output_type": "stream",
     "text": [
      "                                                                                                                                                          \r"
     ]
    },
    {
     "name": "stdout",
     "output_type": "stream",
     "text": [
      "Moviepy - Done !\n",
      "Moviepy - video ready /Users/takkat14/Documents/Фтиад/RL-course/hw1/videos/rl-video-episode-45.mp4\n",
      "Moviepy - Building video /Users/takkat14/Documents/Фтиад/RL-course/hw1/videos/rl-video-episode-46.mp4.\n",
      "Moviepy - Writing video /Users/takkat14/Documents/Фтиад/RL-course/hw1/videos/rl-video-episode-46.mp4\n",
      "\n"
     ]
    },
    {
     "name": "stderr",
     "output_type": "stream",
     "text": [
      "                                                                                                                                                          \r"
     ]
    },
    {
     "name": "stdout",
     "output_type": "stream",
     "text": [
      "Moviepy - Done !\n",
      "Moviepy - video ready /Users/takkat14/Documents/Фтиад/RL-course/hw1/videos/rl-video-episode-46.mp4\n",
      "Moviepy - Building video /Users/takkat14/Documents/Фтиад/RL-course/hw1/videos/rl-video-episode-47.mp4.\n",
      "Moviepy - Writing video /Users/takkat14/Documents/Фтиад/RL-course/hw1/videos/rl-video-episode-47.mp4\n",
      "\n"
     ]
    },
    {
     "name": "stderr",
     "output_type": "stream",
     "text": [
      "                                                                                                                                                          \r"
     ]
    },
    {
     "name": "stdout",
     "output_type": "stream",
     "text": [
      "Moviepy - Done !\n",
      "Moviepy - video ready /Users/takkat14/Documents/Фтиад/RL-course/hw1/videos/rl-video-episode-47.mp4\n",
      "Moviepy - Building video /Users/takkat14/Documents/Фтиад/RL-course/hw1/videos/rl-video-episode-48.mp4.\n",
      "Moviepy - Writing video /Users/takkat14/Documents/Фтиад/RL-course/hw1/videos/rl-video-episode-48.mp4\n",
      "\n"
     ]
    },
    {
     "name": "stderr",
     "output_type": "stream",
     "text": [
      "                                                                                                                                                          \r"
     ]
    },
    {
     "name": "stdout",
     "output_type": "stream",
     "text": [
      "Moviepy - Done !\n",
      "Moviepy - video ready /Users/takkat14/Documents/Фтиад/RL-course/hw1/videos/rl-video-episode-48.mp4\n",
      "Moviepy - Building video /Users/takkat14/Documents/Фтиад/RL-course/hw1/videos/rl-video-episode-49.mp4.\n",
      "Moviepy - Writing video /Users/takkat14/Documents/Фтиад/RL-course/hw1/videos/rl-video-episode-49.mp4\n",
      "\n"
     ]
    },
    {
     "name": "stderr",
     "output_type": "stream",
     "text": [
      "                                                                                                                                                          \r"
     ]
    },
    {
     "name": "stdout",
     "output_type": "stream",
     "text": [
      "Moviepy - Done !\n",
      "Moviepy - video ready /Users/takkat14/Documents/Фтиад/RL-course/hw1/videos/rl-video-episode-49.mp4\n",
      "Moviepy - Building video /Users/takkat14/Documents/Фтиад/RL-course/hw1/videos/rl-video-episode-50.mp4.\n",
      "Moviepy - Writing video /Users/takkat14/Documents/Фтиад/RL-course/hw1/videos/rl-video-episode-50.mp4\n",
      "\n"
     ]
    },
    {
     "name": "stderr",
     "output_type": "stream",
     "text": [
      "                                                                                                                                                          \r"
     ]
    },
    {
     "name": "stdout",
     "output_type": "stream",
     "text": [
      "Moviepy - Done !\n",
      "Moviepy - video ready /Users/takkat14/Documents/Фтиад/RL-course/hw1/videos/rl-video-episode-50.mp4\n",
      "Moviepy - Building video /Users/takkat14/Documents/Фтиад/RL-course/hw1/videos/rl-video-episode-51.mp4.\n",
      "Moviepy - Writing video /Users/takkat14/Documents/Фтиад/RL-course/hw1/videos/rl-video-episode-51.mp4\n",
      "\n"
     ]
    },
    {
     "name": "stderr",
     "output_type": "stream",
     "text": [
      "                                                                                                                                                          \r"
     ]
    },
    {
     "name": "stdout",
     "output_type": "stream",
     "text": [
      "Moviepy - Done !\n",
      "Moviepy - video ready /Users/takkat14/Documents/Фтиад/RL-course/hw1/videos/rl-video-episode-51.mp4\n",
      "Moviepy - Building video /Users/takkat14/Documents/Фтиад/RL-course/hw1/videos/rl-video-episode-52.mp4.\n",
      "Moviepy - Writing video /Users/takkat14/Documents/Фтиад/RL-course/hw1/videos/rl-video-episode-52.mp4\n",
      "\n"
     ]
    },
    {
     "name": "stderr",
     "output_type": "stream",
     "text": [
      "                                                                                                                                                          \r"
     ]
    },
    {
     "name": "stdout",
     "output_type": "stream",
     "text": [
      "Moviepy - Done !\n",
      "Moviepy - video ready /Users/takkat14/Documents/Фтиад/RL-course/hw1/videos/rl-video-episode-52.mp4\n",
      "Moviepy - Building video /Users/takkat14/Documents/Фтиад/RL-course/hw1/videos/rl-video-episode-53.mp4.\n",
      "Moviepy - Writing video /Users/takkat14/Documents/Фтиад/RL-course/hw1/videos/rl-video-episode-53.mp4\n",
      "\n"
     ]
    },
    {
     "name": "stderr",
     "output_type": "stream",
     "text": [
      "                                                                                                                                                          \r"
     ]
    },
    {
     "name": "stdout",
     "output_type": "stream",
     "text": [
      "Moviepy - Done !\n",
      "Moviepy - video ready /Users/takkat14/Documents/Фтиад/RL-course/hw1/videos/rl-video-episode-53.mp4\n",
      "Moviepy - Building video /Users/takkat14/Documents/Фтиад/RL-course/hw1/videos/rl-video-episode-54.mp4.\n",
      "Moviepy - Writing video /Users/takkat14/Documents/Фтиад/RL-course/hw1/videos/rl-video-episode-54.mp4\n",
      "\n"
     ]
    },
    {
     "name": "stderr",
     "output_type": "stream",
     "text": [
      "                                                                                                                                                          \r"
     ]
    },
    {
     "name": "stdout",
     "output_type": "stream",
     "text": [
      "Moviepy - Done !\n",
      "Moviepy - video ready /Users/takkat14/Documents/Фтиад/RL-course/hw1/videos/rl-video-episode-54.mp4\n",
      "Moviepy - Building video /Users/takkat14/Documents/Фтиад/RL-course/hw1/videos/rl-video-episode-55.mp4.\n",
      "Moviepy - Writing video /Users/takkat14/Documents/Фтиад/RL-course/hw1/videos/rl-video-episode-55.mp4\n",
      "\n"
     ]
    },
    {
     "name": "stderr",
     "output_type": "stream",
     "text": [
      "                                                                                                                                                          \r"
     ]
    },
    {
     "name": "stdout",
     "output_type": "stream",
     "text": [
      "Moviepy - Done !\n",
      "Moviepy - video ready /Users/takkat14/Documents/Фтиад/RL-course/hw1/videos/rl-video-episode-55.mp4\n",
      "Moviepy - Building video /Users/takkat14/Documents/Фтиад/RL-course/hw1/videos/rl-video-episode-56.mp4.\n",
      "Moviepy - Writing video /Users/takkat14/Documents/Фтиад/RL-course/hw1/videos/rl-video-episode-56.mp4\n",
      "\n"
     ]
    },
    {
     "name": "stderr",
     "output_type": "stream",
     "text": [
      "                                                                                                                                                          \r"
     ]
    },
    {
     "name": "stdout",
     "output_type": "stream",
     "text": [
      "Moviepy - Done !\n",
      "Moviepy - video ready /Users/takkat14/Documents/Фтиад/RL-course/hw1/videos/rl-video-episode-56.mp4\n",
      "Moviepy - Building video /Users/takkat14/Documents/Фтиад/RL-course/hw1/videos/rl-video-episode-57.mp4.\n",
      "Moviepy - Writing video /Users/takkat14/Documents/Фтиад/RL-course/hw1/videos/rl-video-episode-57.mp4\n",
      "\n"
     ]
    },
    {
     "name": "stderr",
     "output_type": "stream",
     "text": [
      "                                                                                                                                                          \r"
     ]
    },
    {
     "name": "stdout",
     "output_type": "stream",
     "text": [
      "Moviepy - Done !\n",
      "Moviepy - video ready /Users/takkat14/Documents/Фтиад/RL-course/hw1/videos/rl-video-episode-57.mp4\n",
      "Moviepy - Building video /Users/takkat14/Documents/Фтиад/RL-course/hw1/videos/rl-video-episode-58.mp4.\n",
      "Moviepy - Writing video /Users/takkat14/Documents/Фтиад/RL-course/hw1/videos/rl-video-episode-58.mp4\n",
      "\n"
     ]
    },
    {
     "name": "stderr",
     "output_type": "stream",
     "text": [
      "                                                                                                                                                          \r"
     ]
    },
    {
     "name": "stdout",
     "output_type": "stream",
     "text": [
      "Moviepy - Done !\n",
      "Moviepy - video ready /Users/takkat14/Documents/Фтиад/RL-course/hw1/videos/rl-video-episode-58.mp4\n",
      "Moviepy - Building video /Users/takkat14/Documents/Фтиад/RL-course/hw1/videos/rl-video-episode-59.mp4.\n",
      "Moviepy - Writing video /Users/takkat14/Documents/Фтиад/RL-course/hw1/videos/rl-video-episode-59.mp4\n",
      "\n"
     ]
    },
    {
     "name": "stderr",
     "output_type": "stream",
     "text": [
      "                                                                                                                                                          \r"
     ]
    },
    {
     "name": "stdout",
     "output_type": "stream",
     "text": [
      "Moviepy - Done !\n",
      "Moviepy - video ready /Users/takkat14/Documents/Фтиад/RL-course/hw1/videos/rl-video-episode-59.mp4\n",
      "Moviepy - Building video /Users/takkat14/Documents/Фтиад/RL-course/hw1/videos/rl-video-episode-60.mp4.\n",
      "Moviepy - Writing video /Users/takkat14/Documents/Фтиад/RL-course/hw1/videos/rl-video-episode-60.mp4\n",
      "\n"
     ]
    },
    {
     "name": "stderr",
     "output_type": "stream",
     "text": [
      "                                                                                                                                                          \r"
     ]
    },
    {
     "name": "stdout",
     "output_type": "stream",
     "text": [
      "Moviepy - Done !\n",
      "Moviepy - video ready /Users/takkat14/Documents/Фтиад/RL-course/hw1/videos/rl-video-episode-60.mp4\n",
      "Moviepy - Building video /Users/takkat14/Documents/Фтиад/RL-course/hw1/videos/rl-video-episode-61.mp4.\n",
      "Moviepy - Writing video /Users/takkat14/Documents/Фтиад/RL-course/hw1/videos/rl-video-episode-61.mp4\n",
      "\n"
     ]
    },
    {
     "name": "stderr",
     "output_type": "stream",
     "text": [
      "                                                                                                                                                          \r"
     ]
    },
    {
     "name": "stdout",
     "output_type": "stream",
     "text": [
      "Moviepy - Done !\n",
      "Moviepy - video ready /Users/takkat14/Documents/Фтиад/RL-course/hw1/videos/rl-video-episode-61.mp4\n",
      "Moviepy - Building video /Users/takkat14/Documents/Фтиад/RL-course/hw1/videos/rl-video-episode-62.mp4.\n",
      "Moviepy - Writing video /Users/takkat14/Documents/Фтиад/RL-course/hw1/videos/rl-video-episode-62.mp4\n",
      "\n"
     ]
    },
    {
     "name": "stderr",
     "output_type": "stream",
     "text": [
      "                                                                                                                                                          \r"
     ]
    },
    {
     "name": "stdout",
     "output_type": "stream",
     "text": [
      "Moviepy - Done !\n",
      "Moviepy - video ready /Users/takkat14/Documents/Фтиад/RL-course/hw1/videos/rl-video-episode-62.mp4\n",
      "Moviepy - Building video /Users/takkat14/Documents/Фтиад/RL-course/hw1/videos/rl-video-episode-63.mp4.\n",
      "Moviepy - Writing video /Users/takkat14/Documents/Фтиад/RL-course/hw1/videos/rl-video-episode-63.mp4\n",
      "\n"
     ]
    },
    {
     "name": "stderr",
     "output_type": "stream",
     "text": [
      "                                                                                                                                                          \r"
     ]
    },
    {
     "name": "stdout",
     "output_type": "stream",
     "text": [
      "Moviepy - Done !\n",
      "Moviepy - video ready /Users/takkat14/Documents/Фтиад/RL-course/hw1/videos/rl-video-episode-63.mp4\n",
      "Moviepy - Building video /Users/takkat14/Documents/Фтиад/RL-course/hw1/videos/rl-video-episode-64.mp4.\n",
      "Moviepy - Writing video /Users/takkat14/Documents/Фтиад/RL-course/hw1/videos/rl-video-episode-64.mp4\n",
      "\n"
     ]
    },
    {
     "name": "stderr",
     "output_type": "stream",
     "text": [
      "                                                                                                                                                          \r"
     ]
    },
    {
     "name": "stdout",
     "output_type": "stream",
     "text": [
      "Moviepy - Done !\n",
      "Moviepy - video ready /Users/takkat14/Documents/Фтиад/RL-course/hw1/videos/rl-video-episode-64.mp4\n",
      "Moviepy - Building video /Users/takkat14/Documents/Фтиад/RL-course/hw1/videos/rl-video-episode-65.mp4.\n",
      "Moviepy - Writing video /Users/takkat14/Documents/Фтиад/RL-course/hw1/videos/rl-video-episode-65.mp4\n",
      "\n"
     ]
    },
    {
     "name": "stderr",
     "output_type": "stream",
     "text": [
      "                                                                                                                                                          \r"
     ]
    },
    {
     "name": "stdout",
     "output_type": "stream",
     "text": [
      "Moviepy - Done !\n",
      "Moviepy - video ready /Users/takkat14/Documents/Фтиад/RL-course/hw1/videos/rl-video-episode-65.mp4\n",
      "Moviepy - Building video /Users/takkat14/Documents/Фтиад/RL-course/hw1/videos/rl-video-episode-66.mp4.\n",
      "Moviepy - Writing video /Users/takkat14/Documents/Фтиад/RL-course/hw1/videos/rl-video-episode-66.mp4\n",
      "\n"
     ]
    },
    {
     "name": "stderr",
     "output_type": "stream",
     "text": [
      "                                                                                                                                                          \r"
     ]
    },
    {
     "name": "stdout",
     "output_type": "stream",
     "text": [
      "Moviepy - Done !\n",
      "Moviepy - video ready /Users/takkat14/Documents/Фтиад/RL-course/hw1/videos/rl-video-episode-66.mp4\n",
      "Moviepy - Building video /Users/takkat14/Documents/Фтиад/RL-course/hw1/videos/rl-video-episode-67.mp4.\n",
      "Moviepy - Writing video /Users/takkat14/Documents/Фтиад/RL-course/hw1/videos/rl-video-episode-67.mp4\n",
      "\n"
     ]
    },
    {
     "name": "stderr",
     "output_type": "stream",
     "text": [
      "                                                                                                                                                          \r"
     ]
    },
    {
     "name": "stdout",
     "output_type": "stream",
     "text": [
      "Moviepy - Done !\n",
      "Moviepy - video ready /Users/takkat14/Documents/Фтиад/RL-course/hw1/videos/rl-video-episode-67.mp4\n",
      "Moviepy - Building video /Users/takkat14/Documents/Фтиад/RL-course/hw1/videos/rl-video-episode-68.mp4.\n",
      "Moviepy - Writing video /Users/takkat14/Documents/Фтиад/RL-course/hw1/videos/rl-video-episode-68.mp4\n",
      "\n"
     ]
    },
    {
     "name": "stderr",
     "output_type": "stream",
     "text": [
      "                                                                                                                                                          \r"
     ]
    },
    {
     "name": "stdout",
     "output_type": "stream",
     "text": [
      "Moviepy - Done !\n",
      "Moviepy - video ready /Users/takkat14/Documents/Фтиад/RL-course/hw1/videos/rl-video-episode-68.mp4\n",
      "Moviepy - Building video /Users/takkat14/Documents/Фтиад/RL-course/hw1/videos/rl-video-episode-69.mp4.\n",
      "Moviepy - Writing video /Users/takkat14/Documents/Фтиад/RL-course/hw1/videos/rl-video-episode-69.mp4\n",
      "\n"
     ]
    },
    {
     "name": "stderr",
     "output_type": "stream",
     "text": [
      "                                                                                                                                                          \r"
     ]
    },
    {
     "name": "stdout",
     "output_type": "stream",
     "text": [
      "Moviepy - Done !\n",
      "Moviepy - video ready /Users/takkat14/Documents/Фтиад/RL-course/hw1/videos/rl-video-episode-69.mp4\n",
      "Moviepy - Building video /Users/takkat14/Documents/Фтиад/RL-course/hw1/videos/rl-video-episode-70.mp4.\n",
      "Moviepy - Writing video /Users/takkat14/Documents/Фтиад/RL-course/hw1/videos/rl-video-episode-70.mp4\n",
      "\n"
     ]
    },
    {
     "name": "stderr",
     "output_type": "stream",
     "text": [
      "                                                                                                                                                          \r"
     ]
    },
    {
     "name": "stdout",
     "output_type": "stream",
     "text": [
      "Moviepy - Done !\n",
      "Moviepy - video ready /Users/takkat14/Documents/Фтиад/RL-course/hw1/videos/rl-video-episode-70.mp4\n",
      "Moviepy - Building video /Users/takkat14/Documents/Фтиад/RL-course/hw1/videos/rl-video-episode-71.mp4.\n",
      "Moviepy - Writing video /Users/takkat14/Documents/Фтиад/RL-course/hw1/videos/rl-video-episode-71.mp4\n",
      "\n"
     ]
    },
    {
     "name": "stderr",
     "output_type": "stream",
     "text": [
      "                                                                                                                                                          \r"
     ]
    },
    {
     "name": "stdout",
     "output_type": "stream",
     "text": [
      "Moviepy - Done !\n",
      "Moviepy - video ready /Users/takkat14/Documents/Фтиад/RL-course/hw1/videos/rl-video-episode-71.mp4\n",
      "Moviepy - Building video /Users/takkat14/Documents/Фтиад/RL-course/hw1/videos/rl-video-episode-72.mp4.\n",
      "Moviepy - Writing video /Users/takkat14/Documents/Фтиад/RL-course/hw1/videos/rl-video-episode-72.mp4\n",
      "\n"
     ]
    },
    {
     "name": "stderr",
     "output_type": "stream",
     "text": [
      "                                                                                                                                                          \r"
     ]
    },
    {
     "name": "stdout",
     "output_type": "stream",
     "text": [
      "Moviepy - Done !\n",
      "Moviepy - video ready /Users/takkat14/Documents/Фтиад/RL-course/hw1/videos/rl-video-episode-72.mp4\n",
      "Moviepy - Building video /Users/takkat14/Documents/Фтиад/RL-course/hw1/videos/rl-video-episode-73.mp4.\n",
      "Moviepy - Writing video /Users/takkat14/Documents/Фтиад/RL-course/hw1/videos/rl-video-episode-73.mp4\n",
      "\n"
     ]
    },
    {
     "name": "stderr",
     "output_type": "stream",
     "text": [
      "                                                                                                                                                          \r"
     ]
    },
    {
     "name": "stdout",
     "output_type": "stream",
     "text": [
      "Moviepy - Done !\n",
      "Moviepy - video ready /Users/takkat14/Documents/Фтиад/RL-course/hw1/videos/rl-video-episode-73.mp4\n",
      "Moviepy - Building video /Users/takkat14/Documents/Фтиад/RL-course/hw1/videos/rl-video-episode-74.mp4.\n",
      "Moviepy - Writing video /Users/takkat14/Documents/Фтиад/RL-course/hw1/videos/rl-video-episode-74.mp4\n",
      "\n"
     ]
    },
    {
     "name": "stderr",
     "output_type": "stream",
     "text": [
      "                                                                                                                                                          \r"
     ]
    },
    {
     "name": "stdout",
     "output_type": "stream",
     "text": [
      "Moviepy - Done !\n",
      "Moviepy - video ready /Users/takkat14/Documents/Фтиад/RL-course/hw1/videos/rl-video-episode-74.mp4\n",
      "Moviepy - Building video /Users/takkat14/Documents/Фтиад/RL-course/hw1/videos/rl-video-episode-75.mp4.\n",
      "Moviepy - Writing video /Users/takkat14/Documents/Фтиад/RL-course/hw1/videos/rl-video-episode-75.mp4\n",
      "\n"
     ]
    },
    {
     "name": "stderr",
     "output_type": "stream",
     "text": [
      "                                                                                                                                                          \r"
     ]
    },
    {
     "name": "stdout",
     "output_type": "stream",
     "text": [
      "Moviepy - Done !\n",
      "Moviepy - video ready /Users/takkat14/Documents/Фтиад/RL-course/hw1/videos/rl-video-episode-75.mp4\n",
      "Moviepy - Building video /Users/takkat14/Documents/Фтиад/RL-course/hw1/videos/rl-video-episode-76.mp4.\n",
      "Moviepy - Writing video /Users/takkat14/Documents/Фтиад/RL-course/hw1/videos/rl-video-episode-76.mp4\n",
      "\n"
     ]
    },
    {
     "name": "stderr",
     "output_type": "stream",
     "text": [
      "                                                                                                                                                          \r"
     ]
    },
    {
     "name": "stdout",
     "output_type": "stream",
     "text": [
      "Moviepy - Done !\n",
      "Moviepy - video ready /Users/takkat14/Documents/Фтиад/RL-course/hw1/videos/rl-video-episode-76.mp4\n",
      "Moviepy - Building video /Users/takkat14/Documents/Фтиад/RL-course/hw1/videos/rl-video-episode-77.mp4.\n",
      "Moviepy - Writing video /Users/takkat14/Documents/Фтиад/RL-course/hw1/videos/rl-video-episode-77.mp4\n",
      "\n"
     ]
    },
    {
     "name": "stderr",
     "output_type": "stream",
     "text": [
      "                                                                                                                                                          \r"
     ]
    },
    {
     "name": "stdout",
     "output_type": "stream",
     "text": [
      "Moviepy - Done !\n",
      "Moviepy - video ready /Users/takkat14/Documents/Фтиад/RL-course/hw1/videos/rl-video-episode-77.mp4\n",
      "Moviepy - Building video /Users/takkat14/Documents/Фтиад/RL-course/hw1/videos/rl-video-episode-78.mp4.\n",
      "Moviepy - Writing video /Users/takkat14/Documents/Фтиад/RL-course/hw1/videos/rl-video-episode-78.mp4\n",
      "\n"
     ]
    },
    {
     "name": "stderr",
     "output_type": "stream",
     "text": [
      "                                                                                                                                                          \r"
     ]
    },
    {
     "name": "stdout",
     "output_type": "stream",
     "text": [
      "Moviepy - Done !\n",
      "Moviepy - video ready /Users/takkat14/Documents/Фтиад/RL-course/hw1/videos/rl-video-episode-78.mp4\n",
      "Moviepy - Building video /Users/takkat14/Documents/Фтиад/RL-course/hw1/videos/rl-video-episode-79.mp4.\n",
      "Moviepy - Writing video /Users/takkat14/Documents/Фтиад/RL-course/hw1/videos/rl-video-episode-79.mp4\n",
      "\n"
     ]
    },
    {
     "name": "stderr",
     "output_type": "stream",
     "text": [
      "                                                                                                                                                          \r"
     ]
    },
    {
     "name": "stdout",
     "output_type": "stream",
     "text": [
      "Moviepy - Done !\n",
      "Moviepy - video ready /Users/takkat14/Documents/Фтиад/RL-course/hw1/videos/rl-video-episode-79.mp4\n",
      "Moviepy - Building video /Users/takkat14/Documents/Фтиад/RL-course/hw1/videos/rl-video-episode-80.mp4.\n",
      "Moviepy - Writing video /Users/takkat14/Documents/Фтиад/RL-course/hw1/videos/rl-video-episode-80.mp4\n",
      "\n"
     ]
    },
    {
     "name": "stderr",
     "output_type": "stream",
     "text": [
      "                                                                                                                                                          \r"
     ]
    },
    {
     "name": "stdout",
     "output_type": "stream",
     "text": [
      "Moviepy - Done !\n",
      "Moviepy - video ready /Users/takkat14/Documents/Фтиад/RL-course/hw1/videos/rl-video-episode-80.mp4\n",
      "Moviepy - Building video /Users/takkat14/Documents/Фтиад/RL-course/hw1/videos/rl-video-episode-81.mp4.\n",
      "Moviepy - Writing video /Users/takkat14/Documents/Фтиад/RL-course/hw1/videos/rl-video-episode-81.mp4\n",
      "\n"
     ]
    },
    {
     "name": "stderr",
     "output_type": "stream",
     "text": [
      "                                                                                                                                                          \r"
     ]
    },
    {
     "name": "stdout",
     "output_type": "stream",
     "text": [
      "Moviepy - Done !\n",
      "Moviepy - video ready /Users/takkat14/Documents/Фтиад/RL-course/hw1/videos/rl-video-episode-81.mp4\n",
      "Moviepy - Building video /Users/takkat14/Documents/Фтиад/RL-course/hw1/videos/rl-video-episode-82.mp4.\n",
      "Moviepy - Writing video /Users/takkat14/Documents/Фтиад/RL-course/hw1/videos/rl-video-episode-82.mp4\n",
      "\n"
     ]
    },
    {
     "name": "stderr",
     "output_type": "stream",
     "text": [
      "                                                                                                                                                          \r"
     ]
    },
    {
     "name": "stdout",
     "output_type": "stream",
     "text": [
      "Moviepy - Done !\n",
      "Moviepy - video ready /Users/takkat14/Documents/Фтиад/RL-course/hw1/videos/rl-video-episode-82.mp4\n",
      "Moviepy - Building video /Users/takkat14/Documents/Фтиад/RL-course/hw1/videos/rl-video-episode-83.mp4.\n",
      "Moviepy - Writing video /Users/takkat14/Documents/Фтиад/RL-course/hw1/videos/rl-video-episode-83.mp4\n",
      "\n"
     ]
    },
    {
     "name": "stderr",
     "output_type": "stream",
     "text": [
      "                                                                                                                                                          \r"
     ]
    },
    {
     "name": "stdout",
     "output_type": "stream",
     "text": [
      "Moviepy - Done !\n",
      "Moviepy - video ready /Users/takkat14/Documents/Фтиад/RL-course/hw1/videos/rl-video-episode-83.mp4\n",
      "Moviepy - Building video /Users/takkat14/Documents/Фтиад/RL-course/hw1/videos/rl-video-episode-84.mp4.\n",
      "Moviepy - Writing video /Users/takkat14/Documents/Фтиад/RL-course/hw1/videos/rl-video-episode-84.mp4\n",
      "\n"
     ]
    },
    {
     "name": "stderr",
     "output_type": "stream",
     "text": [
      "                                                                                                                                                          \r"
     ]
    },
    {
     "name": "stdout",
     "output_type": "stream",
     "text": [
      "Moviepy - Done !\n",
      "Moviepy - video ready /Users/takkat14/Documents/Фтиад/RL-course/hw1/videos/rl-video-episode-84.mp4\n",
      "Moviepy - Building video /Users/takkat14/Documents/Фтиад/RL-course/hw1/videos/rl-video-episode-85.mp4.\n",
      "Moviepy - Writing video /Users/takkat14/Documents/Фтиад/RL-course/hw1/videos/rl-video-episode-85.mp4\n",
      "\n"
     ]
    },
    {
     "name": "stderr",
     "output_type": "stream",
     "text": [
      "                                                                                                                                                          \r"
     ]
    },
    {
     "name": "stdout",
     "output_type": "stream",
     "text": [
      "Moviepy - Done !\n",
      "Moviepy - video ready /Users/takkat14/Documents/Фтиад/RL-course/hw1/videos/rl-video-episode-85.mp4\n",
      "Moviepy - Building video /Users/takkat14/Documents/Фтиад/RL-course/hw1/videos/rl-video-episode-86.mp4.\n",
      "Moviepy - Writing video /Users/takkat14/Documents/Фтиад/RL-course/hw1/videos/rl-video-episode-86.mp4\n",
      "\n"
     ]
    },
    {
     "name": "stderr",
     "output_type": "stream",
     "text": [
      "                                                                                                                                                          \r"
     ]
    },
    {
     "name": "stdout",
     "output_type": "stream",
     "text": [
      "Moviepy - Done !\n",
      "Moviepy - video ready /Users/takkat14/Documents/Фтиад/RL-course/hw1/videos/rl-video-episode-86.mp4\n",
      "Moviepy - Building video /Users/takkat14/Documents/Фтиад/RL-course/hw1/videos/rl-video-episode-87.mp4.\n",
      "Moviepy - Writing video /Users/takkat14/Documents/Фтиад/RL-course/hw1/videos/rl-video-episode-87.mp4\n",
      "\n"
     ]
    },
    {
     "name": "stderr",
     "output_type": "stream",
     "text": [
      "                                                                                                                                                          \r"
     ]
    },
    {
     "name": "stdout",
     "output_type": "stream",
     "text": [
      "Moviepy - Done !\n",
      "Moviepy - video ready /Users/takkat14/Documents/Фтиад/RL-course/hw1/videos/rl-video-episode-87.mp4\n",
      "Moviepy - Building video /Users/takkat14/Documents/Фтиад/RL-course/hw1/videos/rl-video-episode-88.mp4.\n",
      "Moviepy - Writing video /Users/takkat14/Documents/Фтиад/RL-course/hw1/videos/rl-video-episode-88.mp4\n",
      "\n"
     ]
    },
    {
     "name": "stderr",
     "output_type": "stream",
     "text": [
      "                                                                                                                                                          \r"
     ]
    },
    {
     "name": "stdout",
     "output_type": "stream",
     "text": [
      "Moviepy - Done !\n",
      "Moviepy - video ready /Users/takkat14/Documents/Фтиад/RL-course/hw1/videos/rl-video-episode-88.mp4\n",
      "Moviepy - Building video /Users/takkat14/Documents/Фтиад/RL-course/hw1/videos/rl-video-episode-89.mp4.\n",
      "Moviepy - Writing video /Users/takkat14/Documents/Фтиад/RL-course/hw1/videos/rl-video-episode-89.mp4\n",
      "\n"
     ]
    },
    {
     "name": "stderr",
     "output_type": "stream",
     "text": [
      "                                                                                                                                                          \r"
     ]
    },
    {
     "name": "stdout",
     "output_type": "stream",
     "text": [
      "Moviepy - Done !\n",
      "Moviepy - video ready /Users/takkat14/Documents/Фтиад/RL-course/hw1/videos/rl-video-episode-89.mp4\n",
      "Moviepy - Building video /Users/takkat14/Documents/Фтиад/RL-course/hw1/videos/rl-video-episode-90.mp4.\n",
      "Moviepy - Writing video /Users/takkat14/Documents/Фтиад/RL-course/hw1/videos/rl-video-episode-90.mp4\n",
      "\n"
     ]
    },
    {
     "name": "stderr",
     "output_type": "stream",
     "text": [
      "                                                                                                                                                          \r"
     ]
    },
    {
     "name": "stdout",
     "output_type": "stream",
     "text": [
      "Moviepy - Done !\n",
      "Moviepy - video ready /Users/takkat14/Documents/Фтиад/RL-course/hw1/videos/rl-video-episode-90.mp4\n",
      "Moviepy - Building video /Users/takkat14/Documents/Фтиад/RL-course/hw1/videos/rl-video-episode-91.mp4.\n",
      "Moviepy - Writing video /Users/takkat14/Documents/Фтиад/RL-course/hw1/videos/rl-video-episode-91.mp4\n",
      "\n"
     ]
    },
    {
     "name": "stderr",
     "output_type": "stream",
     "text": [
      "                                                                                                                                                          \r"
     ]
    },
    {
     "name": "stdout",
     "output_type": "stream",
     "text": [
      "Moviepy - Done !\n",
      "Moviepy - video ready /Users/takkat14/Documents/Фтиад/RL-course/hw1/videos/rl-video-episode-91.mp4\n",
      "Moviepy - Building video /Users/takkat14/Documents/Фтиад/RL-course/hw1/videos/rl-video-episode-92.mp4.\n",
      "Moviepy - Writing video /Users/takkat14/Documents/Фтиад/RL-course/hw1/videos/rl-video-episode-92.mp4\n",
      "\n"
     ]
    },
    {
     "name": "stderr",
     "output_type": "stream",
     "text": [
      "                                                                                                                                                          \r"
     ]
    },
    {
     "name": "stdout",
     "output_type": "stream",
     "text": [
      "Moviepy - Done !\n",
      "Moviepy - video ready /Users/takkat14/Documents/Фтиад/RL-course/hw1/videos/rl-video-episode-92.mp4\n",
      "Moviepy - Building video /Users/takkat14/Documents/Фтиад/RL-course/hw1/videos/rl-video-episode-93.mp4.\n",
      "Moviepy - Writing video /Users/takkat14/Documents/Фтиад/RL-course/hw1/videos/rl-video-episode-93.mp4\n",
      "\n"
     ]
    },
    {
     "name": "stderr",
     "output_type": "stream",
     "text": [
      "                                                                                                                                                          \r"
     ]
    },
    {
     "name": "stdout",
     "output_type": "stream",
     "text": [
      "Moviepy - Done !\n",
      "Moviepy - video ready /Users/takkat14/Documents/Фтиад/RL-course/hw1/videos/rl-video-episode-93.mp4\n",
      "Moviepy - Building video /Users/takkat14/Documents/Фтиад/RL-course/hw1/videos/rl-video-episode-94.mp4.\n",
      "Moviepy - Writing video /Users/takkat14/Documents/Фтиад/RL-course/hw1/videos/rl-video-episode-94.mp4\n",
      "\n"
     ]
    },
    {
     "name": "stderr",
     "output_type": "stream",
     "text": [
      "                                                                                                                                                          \r"
     ]
    },
    {
     "name": "stdout",
     "output_type": "stream",
     "text": [
      "Moviepy - Done !\n",
      "Moviepy - video ready /Users/takkat14/Documents/Фтиад/RL-course/hw1/videos/rl-video-episode-94.mp4\n",
      "Moviepy - Building video /Users/takkat14/Documents/Фтиад/RL-course/hw1/videos/rl-video-episode-95.mp4.\n",
      "Moviepy - Writing video /Users/takkat14/Documents/Фтиад/RL-course/hw1/videos/rl-video-episode-95.mp4\n",
      "\n"
     ]
    },
    {
     "name": "stderr",
     "output_type": "stream",
     "text": [
      "                                                                                                                                                          \r"
     ]
    },
    {
     "name": "stdout",
     "output_type": "stream",
     "text": [
      "Moviepy - Done !\n",
      "Moviepy - video ready /Users/takkat14/Documents/Фтиад/RL-course/hw1/videos/rl-video-episode-95.mp4\n",
      "Moviepy - Building video /Users/takkat14/Documents/Фтиад/RL-course/hw1/videos/rl-video-episode-96.mp4.\n",
      "Moviepy - Writing video /Users/takkat14/Documents/Фтиад/RL-course/hw1/videos/rl-video-episode-96.mp4\n",
      "\n"
     ]
    },
    {
     "name": "stderr",
     "output_type": "stream",
     "text": [
      "                                                                                                                                                          \r"
     ]
    },
    {
     "name": "stdout",
     "output_type": "stream",
     "text": [
      "Moviepy - Done !\n",
      "Moviepy - video ready /Users/takkat14/Documents/Фтиад/RL-course/hw1/videos/rl-video-episode-96.mp4\n",
      "Moviepy - Building video /Users/takkat14/Documents/Фтиад/RL-course/hw1/videos/rl-video-episode-97.mp4.\n",
      "Moviepy - Writing video /Users/takkat14/Documents/Фтиад/RL-course/hw1/videos/rl-video-episode-97.mp4\n",
      "\n"
     ]
    },
    {
     "name": "stderr",
     "output_type": "stream",
     "text": [
      "                                                                                                                                                          \r"
     ]
    },
    {
     "name": "stdout",
     "output_type": "stream",
     "text": [
      "Moviepy - Done !\n",
      "Moviepy - video ready /Users/takkat14/Documents/Фтиад/RL-course/hw1/videos/rl-video-episode-97.mp4\n",
      "Moviepy - Building video /Users/takkat14/Documents/Фтиад/RL-course/hw1/videos/rl-video-episode-98.mp4.\n",
      "Moviepy - Writing video /Users/takkat14/Documents/Фтиад/RL-course/hw1/videos/rl-video-episode-98.mp4\n",
      "\n"
     ]
    },
    {
     "name": "stderr",
     "output_type": "stream",
     "text": [
      "                                                                                                                                                          \r"
     ]
    },
    {
     "name": "stdout",
     "output_type": "stream",
     "text": [
      "Moviepy - Done !\n",
      "Moviepy - video ready /Users/takkat14/Documents/Фтиад/RL-course/hw1/videos/rl-video-episode-98.mp4\n",
      "Moviepy - Building video /Users/takkat14/Documents/Фтиад/RL-course/hw1/videos/rl-video-episode-99.mp4.\n",
      "Moviepy - Writing video /Users/takkat14/Documents/Фтиад/RL-course/hw1/videos/rl-video-episode-99.mp4\n",
      "\n"
     ]
    },
    {
     "name": "stderr",
     "output_type": "stream",
     "text": [
      "                                                                                                                                                          "
     ]
    },
    {
     "name": "stdout",
     "output_type": "stream",
     "text": [
      "Moviepy - Done !\n",
      "Moviepy - video ready /Users/takkat14/Documents/Фтиад/RL-course/hw1/videos/rl-video-episode-99.mp4\n"
     ]
    },
    {
     "name": "stderr",
     "output_type": "stream",
     "text": [
      "\r"
     ]
    }
   ],
   "source": [
    "from gymnasium.wrappers.record_video import RecordVideo\n",
    "env = gym.make('CartPole-v1', render_mode=\"rgb_array\")\n",
    "env = RecordVideo(env, './videos',  episode_trigger = lambda episode_number: True)\n",
    "\n",
    "sessions = [generate_session(agent) for _ in range(100)]\n",
    "env.close()"
   ]
  },
  {
   "cell_type": "code",
   "execution_count": 12,
   "metadata": {
    "ExecuteTime": {
     "end_time": "2022-11-07T21:09:42.244750Z",
     "start_time": "2022-11-07T21:09:42.236340Z"
    },
    "hidden": true
   },
   "outputs": [
    {
     "data": {
      "text/html": [
       "\n",
       "<video width=\"640\" height=\"480\" controls>\n",
       "  <source src=\"./videos/rl-video-episode-74.mp4\" type=\"video/mp4\">\n",
       "</video>\n"
      ],
      "text/plain": [
       "<IPython.core.display.HTML object>"
      ]
     },
     "execution_count": 12,
     "metadata": {},
     "output_type": "execute_result"
    }
   ],
   "source": [
    "# show video\n",
    "from IPython.display import HTML\n",
    "import os\n",
    "\n",
    "video_names = list(\n",
    "    filter(lambda s: s.endswith(\".mp4\"), os.listdir(\"./videos/\")))\n",
    "\n",
    "HTML(\"\"\"\n",
    "<video width=\"640\" height=\"480\" controls>\n",
    "  <source src=\"{}\" type=\"video/mp4\">\n",
    "</video>\n",
    "\"\"\".format(\"./videos/\"+video_names[-1]))  # this may or may not be _last_ video. Try other indices"
   ]
  },
  {
   "cell_type": "markdown",
   "metadata": {
    "heading_collapsed": true
   },
   "source": [
    "# Homework\n",
    "\n",
    "### Deep crossentropy method\n",
    "\n",
    "By this moment you should have got enough score on [CartPole-v1](https://gymnasium.farama.org/environments/classic_control/cart_pole/) to consider it solved (see the link). It's time to try something harder.\n",
    "\n",
    "* if you have any trouble with CartPole-v1 and feel stuck, feel free to ask us or your peers for help.\n",
    "\n",
    "### Tasks (up to 1 point each)\n",
    "\n",
    "* __2.1__ Pick one of environments: MountainCar-v0 or LunarLander-v2.\n",
    "  * For MountainCar, get average reward of __at least -150__\n",
    "  * For LunarLander, get average reward of __at least +50__\n",
    "\n",
    "See the tips section below, it's kinda important.\n",
    "__Note:__ If your agent is below the target score, you'll still get most of the points depending on the result, so don't be afraid to submit it.\n",
    "  \n",
    "  \n",
    "* __2.2__ Devise a way to speed up training at least 2x against the default version\n",
    "  * Obvious improvement: use [joblib](https://www.google.com/search?client=ubuntu&channel=fs&q=joblib&ie=utf-8&oe=utf-8) or multiprocessing\n",
    "  * Try re-using samples from 3-5 last iterations when computing threshold and training\n",
    "  * Experiment with amount of training iterations and learning rate of the neural network (see params)\n",
    "  \n",
    "  \n",
    "### Tips\n",
    "* Gym page: [MountainCar](https://gymnasium.farama.org/environments/classic_control/mountain_car/), [LunarLander](https://gymnasium.farama.org/environments/box2d/lunar_lander/)\n",
    "* Sessions for MountainCar may last for 10k+ ticks. Make sure ```t_max``` param is at least 10k.\n",
    " * Also it may be a good idea to cut rewards via \">\" and not \">=\". If 90% of your sessions get reward of -10k and 20% are better, than if you use percentile 20% as threshold, R >= threshold __fails cut off bad sessions__ whule R > threshold works alright.\n",
    "* _issue with gym_: Some versions of gym limit game time by 200 ticks. This will prevent cem training in most cases. Make sure your agent is able to play for the specified __t_max__, and if it isn't, try `env = gym.make(\"MountainCar-v0\").env` or otherwise get rid of TimeLimit wrapper.\n",
    "* If you use old _swig_ lib for LunarLander-v2, you may get an error. See this [issue](https://github.com/openai/gym/issues/100) for solution.\n",
    "* If it won't train it's a good idea to plot reward distribution and record sessions: they may give you some clue. If they don't, call course staff :)\n",
    "* 20-neuron network is probably not enough, feel free to experiment.\n",
    "\n",
    "You may find the following snippet useful:"
   ]
  },
  {
   "cell_type": "markdown",
   "metadata": {},
   "source": [
    "# MountainCar-v0"
   ]
  },
  {
   "cell_type": "code",
   "execution_count": 10,
   "metadata": {
    "ExecuteTime": {
     "end_time": "2022-11-07T22:05:17.647395Z",
     "start_time": "2022-11-07T22:05:17.645484Z"
    }
   },
   "outputs": [],
   "source": [
    "from joblib import Parallel,  delayed"
   ]
  },
  {
   "cell_type": "code",
   "execution_count": 11,
   "metadata": {
    "ExecuteTime": {
     "end_time": "2022-11-07T22:05:17.915330Z",
     "start_time": "2022-11-07T22:05:17.648921Z"
    }
   },
   "outputs": [
    {
     "name": "stdout",
     "output_type": "stream",
     "text": [
      "state vector dim = 2\n",
      "n_actions = 3\n"
     ]
    },
    {
     "data": {
      "image/png": "[encoded data removed]",
      "text/plain": [
       "<Figure size 432x288 with 1 Axes>"
      ]
     },
     "metadata": {
      "needs_background": "light"
     },
     "output_type": "display_data"
    }
   ],
   "source": [
    "import gymnasium as gym\n",
    "import numpy as np\n",
    "import matplotlib.pyplot as plt\n",
    "%matplotlib inline\n",
    "\n",
    "# if you see \"<classname> has no attribute .env\", remove .env or update gym\n",
    "env = gym.make(\"MountainCar-v0\", render_mode=\"rgb_array\").env\n",
    "\n",
    "env.reset()\n",
    "n_actions = env.action_space.n\n",
    "state_dim = env.observation_space.shape[0]\n",
    "\n",
    "plt.imshow(env.render())\n",
    "print(\"state vector dim =\", state_dim)\n",
    "print(\"n_actions =\", n_actions)\n",
    "\n",
    "env.close()"
   ]
  },
  {
   "cell_type": "code",
   "execution_count": 12,
   "metadata": {
    "ExecuteTime": {
     "end_time": "2022-11-07T22:06:36.936664Z",
     "start_time": "2022-11-07T22:06:36.912210Z"
    }
   },
   "outputs": [
    {
     "data": {
      "text/plain": [
       "MLPClassifier(activation='tanh', hidden_layer_sizes=(20, 20))"
      ]
     },
     "execution_count": 12,
     "metadata": {},
     "output_type": "execute_result"
    }
   ],
   "source": [
    "agent = MLPClassifier(\n",
    "    hidden_layer_sizes=(20, 20),\n",
    "    activation='tanh',\n",
    ")\n",
    "\n",
    "agent.partial_fit([env.reset()[0]] * n_actions, range(n_actions), range(n_actions))"
   ]
  },
  {
   "cell_type": "code",
   "execution_count": 13,
   "metadata": {
    "ExecuteTime": {
     "end_time": "2022-11-07T22:06:38.312028Z",
     "start_time": "2022-11-07T22:06:38.302623Z"
    }
   },
   "outputs": [],
   "source": [
    "def select_elites(states_batch, actions_batch, rewards_batch, percentile=50):\n",
    "    \"\"\"\n",
    "    Select states and actions from games that have rewards >= percentile\n",
    "    :param states_batch: list of lists of states, states_batch[session_i][t]\n",
    "    :param actions_batch: list of lists of actions, actions_batch[session_i][t]\n",
    "    :param rewards_batch: list of rewards, rewards_batch[session_i]\n",
    "\n",
    "    :returns: elite_states,elite_actions, both 1D lists of states and respective actions from elite sessions\n",
    "\n",
    "    Please return elite states and actions in their original order \n",
    "    [i.e. sorted by session number and timestep within session]\n",
    "\n",
    "    If you are confused, see examples below. Please don't assume that states are integers\n",
    "    (they will become different later).\n",
    "    \"\"\"\n",
    "\n",
    "        \n",
    "    # Let's see that it differs from tabular `select_elites`.\n",
    "    # Our neural network now is trained with one object and it takes an input of `(1, n_states)`.\n",
    "    # So, we should use `np.squeeze` to remove leading dimension in the deep `select_elites`.\n",
    "    \n",
    "    states = np.array(states_batch, dtype='object')\n",
    "    actions = np.array(actions_batch, dtype='object')\n",
    "    rewards = np.array(rewards_batch, dtype='object')\n",
    "\n",
    "    reward_threshold = np.percentile(rewards, percentile)\n",
    "    \n",
    "    elite_states = []\n",
    "    elite_actions = []\n",
    "    for i in np.where(rewards > reward_threshold)[0]:\n",
    "        elite_states += states[i]\n",
    "        elite_actions += actions[i]\n",
    "        \n",
    "    return elite_states, elite_actions"
   ]
  },
  {
   "cell_type": "code",
   "execution_count": 17,
   "metadata": {
    "ExecuteTime": {
     "end_time": "2022-11-07T21:17:21.196730Z",
     "start_time": "2022-11-07T21:15:55.498721Z"
    }
   },
   "outputs": [
    {
     "name": "stdout",
     "output_type": "stream",
     "text": [
      "CPU times: user 1min 25s, sys: 437 ms, total: 1min 25s\n",
      "Wall time: 1min 25s\n"
     ]
    }
   ],
   "source": [
    "%%time\n",
    "sessions = [generate_session(agent, t_max=10000) for _ in range(n_sessions)]"
   ]
  },
  {
   "cell_type": "code",
   "execution_count": 31,
   "metadata": {
    "ExecuteTime": {
     "end_time": "2022-11-09T16:18:34.571497Z",
     "start_time": "2022-11-09T16:18:34.554615Z"
    }
   },
   "outputs": [],
   "source": [
    "def train(agent, n_sessions = 100, percentile = 70, use_joblib=False, last_iter=5):\n",
    "    \"\"\"\n",
    "    Set last_iter = 0 to disable cache\n",
    "    \"\"\"\n",
    "    log = []\n",
    "    session_cache = []\n",
    "    for i in range(100):\n",
    "        n_real_sessions = n_sessions - (i > last_iter) * last_iter \n",
    "        \n",
    "        if not use_joblib:\n",
    "            sessions = [generate_session(agent, t_max=10000) for _ in tqdm(range(n_real_sessions))]\n",
    "        else:\n",
    "            pp = Parallel(n_jobs=-1, backend=\"threading\")\n",
    "            sessions = pp(delayed(generate_session)(agent, t_max=10000) for _ in tqdm(range(n_real_sessions)))\n",
    "        \n",
    "        \n",
    "        session_cache += sessions\n",
    "        \n",
    "        \n",
    "        if last_iter != 0 and i > last_iter :\n",
    "            if len(session_cache) > (last_iter - 1) * n_sessions:\n",
    "                session_cache = session_cache[n_sessions:]\n",
    "        states_batch, actions_batch, rewards_batch = map(np.array, zip(*session_cache))\n",
    "\n",
    "        elite_states, elite_actions = select_elites(states_batch, actions_batch, rewards_batch)\n",
    "\n",
    "        agent.partial_fit(elite_states, elite_actions)\n",
    "\n",
    "        show_progress(rewards_batch, log, percentile)\n",
    "\n",
    "        if np.mean(rewards_batch) > -150:\n",
    "            print(\"You Win! You may stop training now via KeyboardInterrupt.\")\n",
    "            break"
   ]
  },
  {
   "cell_type": "code",
   "execution_count": 18,
   "metadata": {
    "ExecuteTime": {
     "end_time": "2022-11-07T21:31:41.355561Z",
     "start_time": "2022-11-07T21:17:33.531880Z"
    }
   },
   "outputs": [
    {
     "data": {
      "image/png": "[encoded data removed]",
      "text/plain": [
       "<Figure size 576x288 with 2 Axes>"
      ]
     },
     "metadata": {
      "needs_background": "light"
     },
     "output_type": "display_data"
    },
    {
     "name": "stdout",
     "output_type": "stream",
     "text": [
      "You Win! You may stop training now via KeyboardInterrupt.\n"
     ]
    }
   ],
   "source": [
    "from tqdm.notebook import tqdm\n",
    "\n",
    "n_sessions = 100\n",
    "percentile = 70\n",
    "log = []\n",
    "\n",
    "train()"
   ]
  },
  {
   "cell_type": "markdown",
   "metadata": {},
   "source": [
    "__Training lasts ~ 14.8 minutes__"
   ]
  },
  {
   "cell_type": "markdown",
   "metadata": {},
   "source": [
    "### ___Let's optimize___"
   ]
  },
  {
   "cell_type": "markdown",
   "metadata": {},
   "source": [
    "#### EXP 1: change MLP parameters"
   ]
  },
  {
   "cell_type": "code",
   "execution_count": 32,
   "metadata": {
    "ExecuteTime": {
     "end_time": "2022-11-09T16:18:37.475743Z",
     "start_time": "2022-11-09T16:18:37.458335Z"
    }
   },
   "outputs": [
    {
     "data": {
      "text/plain": [
       "MLPClassifier(activation='tanh', hidden_layer_sizes=(20, 20))"
      ]
     },
     "execution_count": 32,
     "metadata": {},
     "output_type": "execute_result"
    }
   ],
   "source": [
    "agent = MLPClassifier(\n",
    "    hidden_layer_sizes=(20, 20),\n",
    "    activation='tanh',\n",
    ")\n",
    "\n",
    "agent.partial_fit([env.reset()[0]] * n_actions, range(n_actions), range(n_actions))"
   ]
  },
  {
   "cell_type": "code",
   "execution_count": 33,
   "metadata": {
    "ExecuteTime": {
     "end_time": "2022-11-09T16:21:17.868684Z",
     "start_time": "2022-11-09T16:18:37.995931Z"
    }
   },
   "outputs": [
    {
     "data": {
      "image/png": "[encoded data removed]",
      "text/plain": [
       "<Figure size 576x288 with 2 Axes>"
      ]
     },
     "metadata": {
      "needs_background": "light"
     },
     "output_type": "display_data"
    },
    {
     "data": {
      "application/vnd.jupyter.widget-view+json": {
       "model_id": "910cbfee4e334fdfa9f6eb727a0d5d4a",
       "version_major": 2,
       "version_minor": 0
      },
      "text/plain": [
       "  0%|          | 0/100 [00:00<?, ?it/s]"
      ]
     },
     "metadata": {},
     "output_type": "display_data"
    },
    {
     "ename": "KeyboardInterrupt",
     "evalue": "",
     "output_type": "error",
     "traceback": [
      "\u001b[0;31m---------------------------------------------------------------------------\u001b[0m",
      "\u001b[0;31mKeyboardInterrupt\u001b[0m                         Traceback (most recent call last)",
      "File \u001b[0;32m<timed eval>:1\u001b[0m, in \u001b[0;36m<module>\u001b[0;34m\u001b[0m\n",
      "Input \u001b[0;32mIn [31]\u001b[0m, in \u001b[0;36mtrain\u001b[0;34m(agent, n_sessions, percentile, use_joblib, last_iter)\u001b[0m\n\u001b[1;32m     12\u001b[0m \u001b[38;5;28;01melse\u001b[39;00m:\n\u001b[1;32m     13\u001b[0m     pp \u001b[38;5;241m=\u001b[39m Parallel(n_jobs\u001b[38;5;241m=\u001b[39m\u001b[38;5;241m-\u001b[39m\u001b[38;5;241m1\u001b[39m, backend\u001b[38;5;241m=\u001b[39m\u001b[38;5;124m\"\u001b[39m\u001b[38;5;124mthreading\u001b[39m\u001b[38;5;124m\"\u001b[39m)\n\u001b[0;32m---> 14\u001b[0m     sessions \u001b[38;5;241m=\u001b[39m \u001b[43mpp\u001b[49m\u001b[43m(\u001b[49m\u001b[43mdelayed\u001b[49m\u001b[43m(\u001b[49m\u001b[43mgenerate_session\u001b[49m\u001b[43m)\u001b[49m\u001b[43m(\u001b[49m\u001b[43magent\u001b[49m\u001b[43m,\u001b[49m\u001b[43m \u001b[49m\u001b[43mt_max\u001b[49m\u001b[38;5;241;43m=\u001b[39;49m\u001b[38;5;241;43m10000\u001b[39;49m\u001b[43m)\u001b[49m\u001b[43m \u001b[49m\u001b[38;5;28;43;01mfor\u001b[39;49;00m\u001b[43m \u001b[49m\u001b[43m_\u001b[49m\u001b[43m \u001b[49m\u001b[38;5;129;43;01min\u001b[39;49;00m\u001b[43m \u001b[49m\u001b[43mtqdm\u001b[49m\u001b[43m(\u001b[49m\u001b[38;5;28;43mrange\u001b[39;49m\u001b[43m(\u001b[49m\u001b[43mn_real_sessions\u001b[49m\u001b[43m)\u001b[49m\u001b[43m)\u001b[49m\u001b[43m)\u001b[49m\n\u001b[1;32m     17\u001b[0m session_cache \u001b[38;5;241m+\u001b[39m\u001b[38;5;241m=\u001b[39m sessions\n\u001b[1;32m     20\u001b[0m \u001b[38;5;28;01mif\u001b[39;00m last_iter \u001b[38;5;241m!=\u001b[39m \u001b[38;5;241m0\u001b[39m \u001b[38;5;129;01mand\u001b[39;00m i \u001b[38;5;241m>\u001b[39m last_iter :\n",
      "File \u001b[0;32m~/opt/anaconda3/envs/jupy/lib/python3.9/site-packages/joblib/parallel.py:1056\u001b[0m, in \u001b[0;36mParallel.__call__\u001b[0;34m(self, iterable)\u001b[0m\n\u001b[1;32m   1053\u001b[0m     \u001b[38;5;28mself\u001b[39m\u001b[38;5;241m.\u001b[39m_iterating \u001b[38;5;241m=\u001b[39m \u001b[38;5;28;01mFalse\u001b[39;00m\n\u001b[1;32m   1055\u001b[0m \u001b[38;5;28;01mwith\u001b[39;00m \u001b[38;5;28mself\u001b[39m\u001b[38;5;241m.\u001b[39m_backend\u001b[38;5;241m.\u001b[39mretrieval_context():\n\u001b[0;32m-> 1056\u001b[0m     \u001b[38;5;28;43mself\u001b[39;49m\u001b[38;5;241;43m.\u001b[39;49m\u001b[43mretrieve\u001b[49m\u001b[43m(\u001b[49m\u001b[43m)\u001b[49m\n\u001b[1;32m   1057\u001b[0m \u001b[38;5;66;03m# Make sure that we get a last message telling us we are done\u001b[39;00m\n\u001b[1;32m   1058\u001b[0m elapsed_time \u001b[38;5;241m=\u001b[39m time\u001b[38;5;241m.\u001b[39mtime() \u001b[38;5;241m-\u001b[39m \u001b[38;5;28mself\u001b[39m\u001b[38;5;241m.\u001b[39m_start_time\n",
      "File \u001b[0;32m~/opt/anaconda3/envs/jupy/lib/python3.9/site-packages/joblib/parallel.py:935\u001b[0m, in \u001b[0;36mParallel.retrieve\u001b[0;34m(self)\u001b[0m\n\u001b[1;32m    933\u001b[0m \u001b[38;5;28;01mtry\u001b[39;00m:\n\u001b[1;32m    934\u001b[0m     \u001b[38;5;28;01mif\u001b[39;00m \u001b[38;5;28mgetattr\u001b[39m(\u001b[38;5;28mself\u001b[39m\u001b[38;5;241m.\u001b[39m_backend, \u001b[38;5;124m'\u001b[39m\u001b[38;5;124msupports_timeout\u001b[39m\u001b[38;5;124m'\u001b[39m, \u001b[38;5;28;01mFalse\u001b[39;00m):\n\u001b[0;32m--> 935\u001b[0m         \u001b[38;5;28mself\u001b[39m\u001b[38;5;241m.\u001b[39m_output\u001b[38;5;241m.\u001b[39mextend(\u001b[43mjob\u001b[49m\u001b[38;5;241;43m.\u001b[39;49m\u001b[43mget\u001b[49m\u001b[43m(\u001b[49m\u001b[43mtimeout\u001b[49m\u001b[38;5;241;43m=\u001b[39;49m\u001b[38;5;28;43mself\u001b[39;49m\u001b[38;5;241;43m.\u001b[39;49m\u001b[43mtimeout\u001b[49m\u001b[43m)\u001b[49m)\n\u001b[1;32m    936\u001b[0m     \u001b[38;5;28;01melse\u001b[39;00m:\n\u001b[1;32m    937\u001b[0m         \u001b[38;5;28mself\u001b[39m\u001b[38;5;241m.\u001b[39m_output\u001b[38;5;241m.\u001b[39mextend(job\u001b[38;5;241m.\u001b[39mget())\n",
      "File \u001b[0;32m~/opt/anaconda3/envs/jupy/lib/python3.9/multiprocessing/pool.py:765\u001b[0m, in \u001b[0;36mApplyResult.get\u001b[0;34m(self, timeout)\u001b[0m\n\u001b[1;32m    764\u001b[0m \u001b[38;5;28;01mdef\u001b[39;00m \u001b[38;5;21mget\u001b[39m(\u001b[38;5;28mself\u001b[39m, timeout\u001b[38;5;241m=\u001b[39m\u001b[38;5;28;01mNone\u001b[39;00m):\n\u001b[0;32m--> 765\u001b[0m     \u001b[38;5;28;43mself\u001b[39;49m\u001b[38;5;241;43m.\u001b[39;49m\u001b[43mwait\u001b[49m\u001b[43m(\u001b[49m\u001b[43mtimeout\u001b[49m\u001b[43m)\u001b[49m\n\u001b[1;32m    766\u001b[0m     \u001b[38;5;28;01mif\u001b[39;00m \u001b[38;5;129;01mnot\u001b[39;00m \u001b[38;5;28mself\u001b[39m\u001b[38;5;241m.\u001b[39mready():\n\u001b[1;32m    767\u001b[0m         \u001b[38;5;28;01mraise\u001b[39;00m \u001b[38;5;167;01mTimeoutError\u001b[39;00m\n",
      "File \u001b[0;32m~/opt/anaconda3/envs/jupy/lib/python3.9/multiprocessing/pool.py:762\u001b[0m, in \u001b[0;36mApplyResult.wait\u001b[0;34m(self, timeout)\u001b[0m\n\u001b[1;32m    761\u001b[0m \u001b[38;5;28;01mdef\u001b[39;00m \u001b[38;5;21mwait\u001b[39m(\u001b[38;5;28mself\u001b[39m, timeout\u001b[38;5;241m=\u001b[39m\u001b[38;5;28;01mNone\u001b[39;00m):\n\u001b[0;32m--> 762\u001b[0m     \u001b[38;5;28;43mself\u001b[39;49m\u001b[38;5;241;43m.\u001b[39;49m\u001b[43m_event\u001b[49m\u001b[38;5;241;43m.\u001b[39;49m\u001b[43mwait\u001b[49m\u001b[43m(\u001b[49m\u001b[43mtimeout\u001b[49m\u001b[43m)\u001b[49m\n",
      "File \u001b[0;32m~/opt/anaconda3/envs/jupy/lib/python3.9/threading.py:574\u001b[0m, in \u001b[0;36mEvent.wait\u001b[0;34m(self, timeout)\u001b[0m\n\u001b[1;32m    572\u001b[0m signaled \u001b[38;5;241m=\u001b[39m \u001b[38;5;28mself\u001b[39m\u001b[38;5;241m.\u001b[39m_flag\n\u001b[1;32m    573\u001b[0m \u001b[38;5;28;01mif\u001b[39;00m \u001b[38;5;129;01mnot\u001b[39;00m signaled:\n\u001b[0;32m--> 574\u001b[0m     signaled \u001b[38;5;241m=\u001b[39m \u001b[38;5;28;43mself\u001b[39;49m\u001b[38;5;241;43m.\u001b[39;49m\u001b[43m_cond\u001b[49m\u001b[38;5;241;43m.\u001b[39;49m\u001b[43mwait\u001b[49m\u001b[43m(\u001b[49m\u001b[43mtimeout\u001b[49m\u001b[43m)\u001b[49m\n\u001b[1;32m    575\u001b[0m \u001b[38;5;28;01mreturn\u001b[39;00m signaled\n",
      "File \u001b[0;32m~/opt/anaconda3/envs/jupy/lib/python3.9/threading.py:312\u001b[0m, in \u001b[0;36mCondition.wait\u001b[0;34m(self, timeout)\u001b[0m\n\u001b[1;32m    310\u001b[0m \u001b[38;5;28;01mtry\u001b[39;00m:    \u001b[38;5;66;03m# restore state no matter what (e.g., KeyboardInterrupt)\u001b[39;00m\n\u001b[1;32m    311\u001b[0m     \u001b[38;5;28;01mif\u001b[39;00m timeout \u001b[38;5;129;01mis\u001b[39;00m \u001b[38;5;28;01mNone\u001b[39;00m:\n\u001b[0;32m--> 312\u001b[0m         \u001b[43mwaiter\u001b[49m\u001b[38;5;241;43m.\u001b[39;49m\u001b[43macquire\u001b[49m\u001b[43m(\u001b[49m\u001b[43m)\u001b[49m\n\u001b[1;32m    313\u001b[0m         gotit \u001b[38;5;241m=\u001b[39m \u001b[38;5;28;01mTrue\u001b[39;00m\n\u001b[1;32m    314\u001b[0m     \u001b[38;5;28;01melse\u001b[39;00m:\n",
      "\u001b[0;31mKeyboardInterrupt\u001b[0m: "
     ]
    }
   ],
   "source": [
    "%%time\n",
    "train(agent, use_joblib=True)"
   ]
  },
  {
   "cell_type": "code",
   "execution_count": null,
   "metadata": {},
   "outputs": [],
   "source": []
  },
  {
   "cell_type": "code",
   "execution_count": 19,
   "metadata": {
    "ExecuteTime": {
     "end_time": "2022-11-07T21:32:51.021708Z",
     "start_time": "2022-11-07T21:32:50.887525Z"
    }
   },
   "outputs": [
    {
     "data": {
      "text/plain": [
       "<matplotlib.image.AxesImage at 0x7fe7c043ac10>"
      ]
     },
     "execution_count": 19,
     "metadata": {},
     "output_type": "execute_result"
    },
    {
     "data": {
      "image/png": "[encoded data removed]",
      "text/plain": [
       "<Figure size 432x288 with 1 Axes>"
      ]
     },
     "metadata": {
      "needs_background": "light"
     },
     "output_type": "display_data"
    }
   ],
   "source": [
    "def visualize_mountain_car(env, agent):\n",
    "    xs = np.linspace(env.min_position, env.max_position, 100)\n",
    "    vs = np.linspace(-env.max_speed, env.max_speed, 100)\n",
    "    grid = np.dstack(np.meshgrid(xs, vs)).transpose(1, 0, 2)\n",
    "    grid_flat = grid.reshape(len(xs) * len(vs), 2)\n",
    "    probs = agent.predict_proba(grid_flat).reshape(len(xs), len(vs), 3)\n",
    "    return probs\n",
    "\n",
    "plt.imshow(visualize_mountain_car(env, agent))"
   ]
  },
  {
   "cell_type": "markdown",
   "metadata": {},
   "source": [
    "### Bonus tasks (up to 0.5 points)\n",
    "\n",
    "* __2.3 bonus__ Solve continuous action space task with `MLPRegressor` or similar.\n",
    "  * Start with [\"Pendulum-v1\"](https://gymnasium.farama.org/environments/classic_control/pendulum/) __(score -150)__.\n",
    "  * Since your agent only predicts the \"expected\" action, you will have to add noise to ensure exploration.\n",
    "  * Solve [MountainCarContinuous-v0](https://gymnasium.farama.org/environments/classic_control/mountain_car_continuous/) __(score +90)__ or[LunarLanderContinuous-v2](https://gymnasium.farama.org/environments/box2d/lunar_lander/) __(score -200)__. Slightly less points for getting some results below solution threshold. Note that discrete and continuous environments may have slightly different rules aside from action spaces.\n",
    "  * __Please list what you did in anytask submission form__"
   ]
  }
 ],
 "metadata": {
  "kernelspec": {
   "display_name": "Python 3 (ipykernel)",
   "language": "python",
   "name": "python3"
  },
  "language_info": {
   "codemirror_mode": {
    "name": "ipython",
    "version": 3
   },
   "file_extension": ".py",
   "mimetype": "text/x-python",
   "name": "python",
   "nbconvert_exporter": "python",
   "pygments_lexer": "ipython3",
   "version": "3.9.7"
  },
  "toc": {
   "base_numbering": 1,
   "nav_menu": {},
   "number_sections": true,
   "sideBar": true,
   "skip_h1_title": false,
   "title_cell": "Table of Contents",
   "title_sidebar": "Contents",
   "toc_cell": false,
   "toc_position": {},
   "toc_section_display": true,
   "toc_window_display": false
  }
 },
 "nbformat": 4,
 "nbformat_minor": 4
}
